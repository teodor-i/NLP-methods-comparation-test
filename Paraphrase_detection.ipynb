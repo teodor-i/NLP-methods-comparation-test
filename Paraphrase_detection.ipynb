{
  "nbformat": 4,
  "nbformat_minor": 0,
  "metadata": {
    "kernelspec": {
      "display_name": "Python 3",
      "language": "python",
      "name": "python3"
    },
    "language_info": {
      "codemirror_mode": {
        "name": "ipython",
        "version": 3
      },
      "file_extension": ".py",
      "mimetype": "text/x-python",
      "name": "python",
      "nbconvert_exporter": "python",
      "pygments_lexer": "ipython3",
      "version": "3.9.1"
    },
    "colab": {
      "name": "Paraphrase detection.ipynb",
      "provenance": []
    }
  },
  "cells": [
    {
      "cell_type": "markdown",
      "metadata": {
        "id": "aqYhYroIBDz_"
      },
      "source": [
        "# NLP methods in Paraphrase detection\n",
        "\n",
        "Тестовый ноутбук, чтобы сравнить unsupervices и supervised подходы к вычеслению схожести текстов\n",
        "Для решении задачи используем русскоязычный корпус ParaPhraser.\n",
        "* Часть 1: Unsupervised methods \n",
        "* Часть 2: Supervised methods \n",
        "\n",
        "\n",
        "Изучим:\n",
        "\n",
        "Embeddings\n",
        "    - word2vec \n",
        "    - word2vec with weights\n",
        "    - doc2vec \n",
        "    - ELMo \n",
        "    \n",
        "Models\n",
        "    - LogReg\n",
        "    - SVM\n",
        "    - RandomForest\n",
        "    - GradientBoosting"
      ]
    },
    {
      "cell_type": "markdown",
      "metadata": {
        "heading_collapsed": true,
        "id": "_cXK6kblBD0H"
      },
      "source": [
        "#### Загрузка библиотек и данных"
      ]
    },
    {
      "cell_type": "code",
      "metadata": {
        "ExecuteTime": {
          "end_time": "2018-11-09T11:11:38.405967Z",
          "start_time": "2018-11-09T11:11:31.830360Z"
        },
        "hidden": true,
        "id": "rjIugX9GBD0H"
      },
      "source": [
        "import pandas as pd\n",
        "import numpy as np\n",
        "import seaborn as sns\n",
        "import matplotlib.pyplot as plt\n",
        "from nltk import WordNetLemmatizer\n",
        "from nltk.corpus import stopwords\n",
        "import gensim\n",
        "import re\n",
        "from tqdm import tqdm\n",
        "from gensim.models import word2vec\n",
        "import warnings\n",
        "import random\n",
        "warnings.filterwarnings('ignore')\n",
        "random.seed(42)\n",
        "import pymorphy2\n",
        "\n",
        "from gensim.models.doc2vec import Doc2Vec, TaggedDocument\n",
        "from gensim.models.wrappers import FastText\n",
        "\n",
        "from sklearn.feature_extraction.text import CountVectorizer\n",
        "from sklearn.feature_extraction.text import TfidfVectorizer\n",
        "\n",
        "from collections import Counter, defaultdict\n",
        "\n",
        "%matplotlib inline"
      ],
      "execution_count": null,
      "outputs": []
    },
    {
      "cell_type": "code",
      "metadata": {
        "ExecuteTime": {
          "end_time": "2018-11-09T11:11:38.488661Z",
          "start_time": "2018-11-09T11:11:38.408775Z"
        },
        "hidden": true,
        "id": "Rv393uEnBD0I"
      },
      "source": [
        "from sklearn.metrics import accuracy_score\n",
        "from sklearn.metrics import f1_score\n",
        "from sklearn.model_selection import train_test_split\n",
        "from sklearn.pipeline import Pipeline\n",
        "from sklearn.model_selection import GridSearchCV\n",
        "from sklearn.linear_model import LogisticRegression\n",
        "from sklearn.ensemble import RandomForestClassifier\n",
        "from sklearn.ensemble import GradientBoostingClassifier\n",
        "from sklearn.svm import SVC  \n",
        "#from xgboost import XGBClassifier\n",
        "from sklearn.metrics import make_scorer"
      ],
      "execution_count": null,
      "outputs": []
    },
    {
      "cell_type": "code",
      "metadata": {
        "ExecuteTime": {
          "end_time": "2018-11-07T17:44:29.733923Z",
          "start_time": "2018-11-07T17:44:29.664786Z"
        },
        "hidden": true,
        "id": "51QeclJJBD0I"
      },
      "source": [
        "data = pd.read_csv('data_hw2.csv')"
      ],
      "execution_count": null,
      "outputs": []
    },
    {
      "cell_type": "markdown",
      "metadata": {
        "hidden": true,
        "id": "xiOmJfhdBD0I"
      },
      "source": [
        "*Отнесем все объекты класса 0 к классу 1:*"
      ]
    },
    {
      "cell_type": "code",
      "metadata": {
        "ExecuteTime": {
          "end_time": "2018-11-07T17:44:30.846420Z",
          "start_time": "2018-11-07T17:44:30.835064Z"
        },
        "hidden": true,
        "id": "wOSaqWrcBD0J"
      },
      "source": [
        "data['class_bin'] = data['class'].apply(lambda x: 1 if x != -1 else -1).values"
      ],
      "execution_count": null,
      "outputs": []
    },
    {
      "cell_type": "markdown",
      "metadata": {
        "id": "0XQSVn-UBD0J"
      },
      "source": [
        "# 1. Unsupervised \n",
        "\n",
        "*Краткое описание:*\n",
        "* *с помощью предобученной модели FastText получаем эмбеддинги для данных*\n",
        "* *подбираем значение порога на обучаемой выборке*\n",
        "* *строим предсказания для тестовой выборки, измеряем качество*"
      ]
    },
    {
      "cell_type": "markdown",
      "metadata": {
        "heading_collapsed": true,
        "id": "9-5frfXTBD0J"
      },
      "source": [
        "#### 1.1 Предобработка текста и разделение данных на обучающую и тестовую выборку [unsupervised]"
      ]
    },
    {
      "cell_type": "markdown",
      "metadata": {
        "hidden": true,
        "id": "7L4O2-oEBD0K"
      },
      "source": [
        "*Лемматизация с помощью Pymorphy, союзы и предлоги удалены.*"
      ]
    },
    {
      "cell_type": "code",
      "metadata": {
        "ExecuteTime": {
          "end_time": "2018-11-09T11:11:57.037392Z",
          "start_time": "2018-11-09T11:11:57.031491Z"
        },
        "hidden": true,
        "id": "stV_SSmhBD0K"
      },
      "source": [
        "def simple_processing(texts):\n",
        "    prog = re.compile(\"[А-Яа-яёA-Za-z]+\")\n",
        "    morph = pymorphy2.MorphAnalyzer()\n",
        "    make_list = []\n",
        "    for text in tqdm(texts):\n",
        "        line = prog.findall(str(text).lower()) \n",
        "        words = [morph.parse(token)[0].normal_form for token in line\n",
        "                if not morph.parse(token)[0].tag.POS in ['PREP', 'CONJ'] ]\n",
        "        make_list.append(words)\n",
        "    return make_list\n",
        "    "
      ],
      "execution_count": null,
      "outputs": []
    },
    {
      "cell_type": "code",
      "metadata": {
        "ExecuteTime": {
          "end_time": "2018-11-07T14:19:31.630048Z",
          "start_time": "2018-11-07T14:18:19.572649Z"
        },
        "hidden": true,
        "id": "GNqRry78BD0K"
      },
      "source": [
        "data['text_1'] = simple_processing(data['text_1'])\n",
        "data['text_2'] = simple_processing(data['text_2'])"
      ],
      "execution_count": null,
      "outputs": []
    },
    {
      "cell_type": "code",
      "metadata": {
        "ExecuteTime": {
          "end_time": "2018-11-07T14:19:31.647737Z",
          "start_time": "2018-11-07T14:19:31.633355Z"
        },
        "hidden": true,
        "id": "Xkdie-oVBD0K"
      },
      "source": [
        "data_train, data_test = train_test_split(data, test_size = 0.25, random_state = 666)"
      ],
      "execution_count": null,
      "outputs": []
    },
    {
      "cell_type": "markdown",
      "metadata": {
        "heading_collapsed": true,
        "id": "eeQgIE7IBD0L"
      },
      "source": [
        "#### 1.2 Необходимые функции"
      ]
    },
    {
      "cell_type": "code",
      "metadata": {
        "ExecuteTime": {
          "end_time": "2018-11-07T15:16:19.177651Z",
          "start_time": "2018-11-07T15:16:19.158174Z"
        },
        "collapsed": true,
        "hidden": true,
        "id": "WusW5CslBD0L"
      },
      "source": [
        "def wmd(doc_1, doc_2, model):\n",
        "    '''\n",
        "    Word Mover's Distance between two documents.\n",
        "  \n",
        "    Parameters\n",
        "    ----------\n",
        "    doc_1, doc_2: list of tokens (words)\n",
        "        Two documents\n",
        "    model: \n",
        "        Model produced word emdeddings\n",
        "    \n",
        "    Returns\n",
        "    -------\n",
        "    float\n",
        "        Computed Word Mover's Distance based on trained model \n",
        "    '''\n",
        "    \n",
        "    return model.wmdistance(doc_1, doc_2)\n",
        "\n",
        "\n",
        "def prediction(text_1, text_2, threshold, model):\n",
        "    '''\n",
        "    Create predictions according to Word Mover's Distance between two documents (texts)\n",
        "    \n",
        "    Parameters\n",
        "    ----------\n",
        "    text_1, text_2: list of lists\n",
        "        Two lists of documents (texts)\n",
        "    threshold: float\n",
        "        Threshold to define label for pair of documents\n",
        "    model:\n",
        "        Model produced word embeddings\n",
        "    \n",
        "        \n",
        "    Returns\n",
        "    -------\n",
        "    list of floats\n",
        "        Predictions for these lists of documents (texts)\n",
        "    '''\n",
        "    \n",
        "    y_pred = []\n",
        "    if len(text_1) != len(text_2):\n",
        "        print('Arrays must be same size')\n",
        "    else:\n",
        "        for i in range(len(text_1)):\n",
        "            if wmd(text_1[i], text_2[i], model) < threshold:\n",
        "                y_pred.append(1)\n",
        "            else:\n",
        "                y_pred.append(-1)\n",
        "        return y_pred\n",
        "    "
      ],
      "execution_count": null,
      "outputs": []
    },
    {
      "cell_type": "markdown",
      "metadata": {
        "id": "bh5TwO3ZBD0L"
      },
      "source": [
        "#### 1.3 Загрузка модели эмбеддингов, подбор оптимального порога"
      ]
    },
    {
      "cell_type": "code",
      "metadata": {
        "ExecuteTime": {
          "end_time": "2018-11-07T15:07:55.980819Z",
          "start_time": "2018-11-07T14:54:24.774401Z"
        },
        "collapsed": true,
        "id": "RPtHr6ngBD0L"
      },
      "source": [
        "# загружаем предобученную модель эмбеддингов\n",
        "\n",
        "model = FastText.load_fasttext_format('cc.ru.300.bin')"
      ],
      "execution_count": null,
      "outputs": []
    },
    {
      "cell_type": "code",
      "metadata": {
        "ExecuteTime": {
          "end_time": "2018-11-07T15:21:12.424866Z",
          "start_time": "2018-11-07T15:19:05.561064Z"
        },
        "collapsed": true,
        "id": "wlUbZEuVBD0M"
      },
      "source": [
        "thresholds = np.arange(0.6, 0.9, 0.02) \n",
        "accuracy, f1_macro = [], []\n",
        "y = data_train['class_bin']\n",
        "for t in thresholds:\n",
        "    y_pred = prediction(data_train['text_1'].values, data_train['text_2'].values, t, model)\n",
        "    accuracy.append(accuracy_score(y, y_pred))\n",
        "    f1_macro.append(f1_score(y, y_pred, average='macro'))"
      ],
      "execution_count": null,
      "outputs": []
    },
    {
      "cell_type": "code",
      "metadata": {
        "ExecuteTime": {
          "end_time": "2018-11-07T15:28:23.252345Z",
          "start_time": "2018-11-07T15:28:22.904607Z"
        },
        "id": "ArPl9sdSBD0M",
        "outputId": "cb5d5d39-66d8-4fb5-a230-7f76a73c5307"
      },
      "source": [
        "fig = plt.figure(figsize=(15, 7))\n",
        "plt.title('F1-score and accuracy according to thresholds')\n",
        "plt.plot(thresholds, accuracy)\n",
        "plt.plot(thresholds, f1_macro)\n",
        "plt.grid(0)\n",
        "plt.legend(('accuracy', 'micro'))\n",
        "plt.show()"
      ],
      "execution_count": null,
      "outputs": [
        {
          "output_type": "display_data",
          "data": {
            "image/png": "[encoded data removed]",
            "text/plain": [
              "<matplotlib.figure.Figure at 0x1bffc41a20>"
            ]
          },
          "metadata": {
            "tags": [],
            "needs_background": "light"
          }
        }
      ]
    },
    {
      "cell_type": "markdown",
      "metadata": {
        "heading_collapsed": true,
        "id": "vUu07tyIBD0N"
      },
      "source": [
        "#### 1.4 Создание предсказаний для тестовой выборки, оценка качества "
      ]
    },
    {
      "cell_type": "markdown",
      "metadata": {
        "hidden": true,
        "id": "yXGhLMUoBD0N"
      },
      "source": [
        "*Был подобран следующий порог:*"
      ]
    },
    {
      "cell_type": "code",
      "metadata": {
        "ExecuteTime": {
          "end_time": "2018-11-07T15:35:09.937277Z",
          "start_time": "2018-11-07T15:35:07.402813Z"
        },
        "collapsed": true,
        "hidden": true,
        "id": "h5q5QKU1BD0N"
      },
      "source": [
        "y_pred = prediction(data_test['text_1'].values, data_test['text_2'].values, 0.725, model)"
      ],
      "execution_count": null,
      "outputs": []
    },
    {
      "cell_type": "code",
      "metadata": {
        "ExecuteTime": {
          "end_time": "2018-11-07T15:35:09.953617Z",
          "start_time": "2018-11-07T15:35:09.939853Z"
        },
        "hidden": true,
        "id": "NhcLCWmmBD0N",
        "outputId": "84584e2d-9373-48b3-b448-01b5fcd5765d"
      },
      "source": [
        "print('Test set accuracy score: %.3f' % accuracy_score(data_test['class_bin'], y_pred))\n",
        "print('Test set f1_macro score: %.3f' % f1_score(data_test['class_bin'], y_pred, average='macro')) "
      ],
      "execution_count": null,
      "outputs": [
        {
          "output_type": "stream",
          "text": [
            "accuracy score: 0.7360265633646929\n",
            "f1_macro score: 0.6956736345388971\n"
          ],
          "name": "stdout"
        }
      ]
    },
    {
      "cell_type": "markdown",
      "metadata": {
        "id": "Lkye4wpaBD0O"
      },
      "source": [
        "# 2. Supervised I: сведение задачи к бинарной классификации\n",
        "\n",
        "*Краткое описание:*\n",
        "* векторизуем тексты несколькими способами\n",
        "* выбираем модели, подбираем гиперпараметры\n",
        "* оцениваем качество \n",
        "\n",
        "*Используемые модели эмбеддингов:*\n",
        "\n",
        " - word2vec \n",
        " - word2vec with weights\n",
        " - doc2vec \n",
        " - ELMo\n",
        " \n",
        "*Модели классификации:*\n",
        "\n",
        " - LogisticRegression\n",
        " - SVM\n",
        " - RandomForest\n",
        " - GradientBoosting\n",
        " \n",
        " \n",
        " ! Для Word2Vec нужна отдельная функция лемматизации word -> lemma_tag\n",
        "Можно сделать тремя способами:\n",
        "\n",
        "- udpipe (но плохая лемматизация)\n",
        "- mystem + смена тэгсета (но очень долго)\n",
        "- pymorphy + смена тэгсета (но очень много чего теряем)\n",
        "\n",
        " ! Для Doc2vec обычная лемматизация из unsupervised части"
      ]
    },
    {
      "cell_type": "markdown",
      "metadata": {
        "id": "cBYFKruhBD0O"
      },
      "source": [
        "## Embeddings"
      ]
    },
    {
      "cell_type": "markdown",
      "metadata": {
        "id": "oC1SB1IQBD0O"
      },
      "source": [
        "##### Необходимые функции:"
      ]
    },
    {
      "cell_type": "code",
      "metadata": {
        "ExecuteTime": {
          "end_time": "2018-11-09T13:18:48.070426Z",
          "start_time": "2018-11-09T13:18:48.063253Z"
        },
        "id": "-VdLPJQXBD0P"
      },
      "source": [
        "class score_report(object):\n",
        "    '''\n",
        "    Class for creating DataFrame with results\n",
        "    '''\n",
        "    \n",
        "    def __init__(self):\n",
        "        '''\n",
        "        Constructor of class\n",
        "        '''\n",
        "        e = ['Word2Vec', 'Weighted_Word2Vec', 'Doc2Vec', 'Fasttext', 'Weighted_Fasttext']\n",
        "        m = ['logreg_acc', 'logreg_f1', 'svm_acc', 'svm_f1', \n",
        "             'boost_acc', 'boost_f1', 'forest_acc', 'forest_f1']\n",
        "        self.data = pd.DataFrame(index = e, columns = m)\n",
        "        \n",
        "    def add(self, score, clf, metric, embedding):\n",
        "        '''\n",
        "        Add score with corresponding name of model, metric and embedding model\n",
        "        \n",
        "        Parameters:\n",
        "        -----------\n",
        "        score: float\n",
        "            Score of the model\n",
        "        clf: str\n",
        "            Name of model, for example: 'logreg'\n",
        "        metric: str\n",
        "            One of these metrics: 'acc' or 'f1' correspond to 'accuracy' and 'f1 macro score' respectfully\n",
        "        embedding:\n",
        "            Name of embedding model, for example: 'Word2Vec'\n",
        "        \n",
        "        '''\n",
        "        \n",
        "        model = clf + '_' + metric\n",
        "        results = self.data\n",
        "        results.loc[embedding][model] = score\n",
        "    \n",
        "    def show(self):\n",
        "        '''\n",
        "        Show DataFrame with results\n",
        "        '''\n",
        "        return self.data\n"
      ],
      "execution_count": null,
      "outputs": []
    },
    {
      "cell_type": "code",
      "metadata": {
        "ExecuteTime": {
          "end_time": "2018-11-09T13:18:48.577094Z",
          "start_time": "2018-11-09T13:18:48.569889Z"
        },
        "id": "0dsRRG5kBD0P"
      },
      "source": [
        "results = score_report()"
      ],
      "execution_count": null,
      "outputs": []
    },
    {
      "cell_type": "markdown",
      "metadata": {
        "id": "ukyQC1fXBD0P"
      },
      "source": [
        "### 2.1 Word2Vec: усредненный & усредненный с весами"
      ]
    },
    {
      "cell_type": "markdown",
      "metadata": {
        "heading_collapsed": true,
        "id": "MhO9ZHZVBD0P"
      },
      "source": [
        "#### Предобработка текста, разделение данных на обучающую и тестовую выборку [supervised] \n",
        "Для использования предобученной модель word2vec с RusVectores, то необходимо, чтобы слова в текстах имели вид **lemma + POS_tag** (корпус, на котором обучена модель, был обработан с помощью udpipe). \n"
      ]
    },
    {
      "cell_type": "markdown",
      "metadata": {
        "heading_collapsed": true,
        "hidden": true,
        "id": "cH-vnRnLBD0Q"
      },
      "source": [
        "##### Функция для предобработки с udpipe"
      ]
    },
    {
      "cell_type": "code",
      "metadata": {
        "hidden": true,
        "id": "2egOtOTiBD0Q",
        "outputId": "85156a67-8781-4212-cc39-713b51a51f68"
      },
      "source": [
        "!pip install ufal.udpipe"
      ],
      "execution_count": null,
      "outputs": [
        {
          "output_type": "stream",
          "text": [
            "Requirement already satisfied: ufal.udpipe in ./anaconda3/envs/fastai/lib/python3.6/site-packages\n",
            "\u001b[33mYou are using pip version 9.0.1, however version 18.1 is available.\n",
            "You should consider upgrading via the 'pip install --upgrade pip' command.\u001b[0m\n"
          ],
          "name": "stdout"
        }
      ]
    },
    {
      "cell_type": "code",
      "metadata": {
        "hidden": true,
        "id": "xWnT7JXkBD0Q",
        "outputId": "d129408e-653d-4eff-a0ed-285ef5dc73a6"
      },
      "source": [
        "!pip install conllu"
      ],
      "execution_count": null,
      "outputs": [
        {
          "output_type": "stream",
          "text": [
            "Requirement already satisfied: conllu in ./anaconda3/envs/fastai/lib/python3.6/site-packages\n",
            "\u001b[33mYou are using pip version 9.0.1, however version 18.1 is available.\n",
            "You should consider upgrading via the 'pip install --upgrade pip' command.\u001b[0m\n"
          ],
          "name": "stdout"
        }
      ]
    },
    {
      "cell_type": "code",
      "metadata": {
        "ExecuteTime": {
          "end_time": "2018-11-07T20:08:12.345609Z",
          "start_time": "2018-11-07T20:07:35.712271Z"
        },
        "hidden": true,
        "id": "OZYEg1ILBD0R"
      },
      "source": [
        "from ufal.udpipe import Model, Pipeline\n",
        "from conllu import parse\n",
        "\n",
        "model = Model.load(\"russian-ud-2.0-170801.udpipe\")\n",
        "pipeline = Pipeline(model, 'generic_tokenizer', '', '', '')\n",
        "\n",
        "\n",
        "def udpipe_processing(lst):\n",
        "    pattern = re.compile(\"[А-Яа-я]+|[A-Za-z]+\") \n",
        "    make_list = []\n",
        "    for text in lst:\n",
        "        words = ' '.join(pattern.findall(text))\n",
        "        parsed = pipeline.process(words)\n",
        "        sentence = parse(parsed)\n",
        "        sents = []\n",
        "        for i in range(len(sentence[0])):\n",
        "            sents.append(sentence[0][i]['lemma'].lower() + '_' + sentence[0][i]['upostag']) \n",
        "            #конкатенируем лемму и тэг\n",
        "        make_list.append(sents)\n",
        "        \n",
        "    return make_list"
      ],
      "execution_count": null,
      "outputs": []
    },
    {
      "cell_type": "markdown",
      "metadata": {
        "heading_collapsed": true,
        "hidden": true,
        "id": "w5et98paBD0R"
      },
      "source": [
        "##### Функция для предобработки с mystem"
      ]
    },
    {
      "cell_type": "markdown",
      "metadata": {
        "hidden": true,
        "id": "a2ffpnOOBD0R"
      },
      "source": [
        "*! Не забыть написать откуда взяли функцию* "
      ]
    },
    {
      "cell_type": "code",
      "metadata": {
        "hidden": true,
        "id": "zxoZxBvOBD0R",
        "outputId": "d04eecc0-5c5e-49d9-8a13-f16060252859"
      },
      "source": [
        "!pip install pymystem3"
      ],
      "execution_count": null,
      "outputs": [
        {
          "output_type": "stream",
          "text": [
            "Collecting pymystem3\n",
            "  Downloading https://files.pythonhosted.org/packages/00/8c/98b43c5822620458704e187a1666616c1e21a846ede8ffda493aabe11207/pymystem3-0.2.0-py3-none-any.whl\n",
            "Requirement already satisfied: requests in ./anaconda3/envs/fastai/lib/python3.6/site-packages (from pymystem3)\n",
            "Requirement already satisfied: chardet<3.1.0,>=3.0.2 in ./anaconda3/envs/fastai/lib/python3.6/site-packages (from requests->pymystem3)\n",
            "Requirement already satisfied: idna<2.7,>=2.5 in ./anaconda3/envs/fastai/lib/python3.6/site-packages (from requests->pymystem3)\n",
            "Requirement already satisfied: urllib3<1.23,>=1.21.1 in ./anaconda3/envs/fastai/lib/python3.6/site-packages (from requests->pymystem3)\n",
            "Requirement already satisfied: certifi>=2017.4.17 in ./anaconda3/envs/fastai/lib/python3.6/site-packages (from requests->pymystem3)\n",
            "Installing collected packages: pymystem3\n",
            "Successfully installed pymystem3-0.2.0\n",
            "\u001b[33mYou are using pip version 9.0.1, however version 18.1 is available.\n",
            "You should consider upgrading via the 'pip install --upgrade pip' command.\u001b[0m\n"
          ],
          "name": "stdout"
        }
      ]
    },
    {
      "cell_type": "code",
      "metadata": {
        "hidden": true,
        "id": "g1oBtaq8BD0S"
      },
      "source": [
        "from pymystem3 import Mystem\n",
        "\n",
        "mapping = {'COM': 'ADJ',  #mystem : udpipe\n",
        "           'APRO': 'DET',\n",
        "           'PART': 'PART',\n",
        "           'PR': 'ADP',\n",
        "           'ADV': 'ADV',\n",
        "           'INTJ': 'INTJ',\n",
        "           'S': 'NOUN',\n",
        "           'V': 'VERB',\n",
        "           'CONJ': 'SCONJ',\n",
        "           'UNKN': 'X',\n",
        "           'ANUM': 'ADJ',\n",
        "           'NUM': 'NUM',\n",
        "           'NONLEX': 'X',\n",
        "           'SPRO': 'PRON',\n",
        "           'ADVPRO': 'ADV',\n",
        "           'A': 'ADJ'}\n",
        "\n",
        "def tag_mystem(doc):  \n",
        "    m = Mystem()\n",
        "    processed = m.analyze(doc)\n",
        "    tagged = []\n",
        "    for w in processed:\n",
        "        try:\n",
        "            lemma = w[\"analysis\"][0][\"lex\"].lower().strip()\n",
        "            pos = w[\"analysis\"][0][\"gr\"].split(',')[0]\n",
        "            pos = pos.split('=')[0].strip()\n",
        "            if pos in mapping:\n",
        "                tagged.append(lemma + '_' + mapping[pos]) # здесь мы конвертируем тэги\n",
        "            else:\n",
        "                tagged.append(lemma + '_X') # на случай, если попадется тэг, которого нет в маппинге\n",
        "        except KeyError:\n",
        "            continue # я здесь пропускаю знаки препинания, но вы можете поступить по-другому\n",
        "    return tagged\n",
        "\n",
        "def mystem_processing(lst):\n",
        "    res = []\n",
        "    for i in tqdm(range(len(lst))):\n",
        "        res.append(tag_mystem(lst[i]))\n",
        "    return res"
      ],
      "execution_count": null,
      "outputs": []
    },
    {
      "cell_type": "markdown",
      "metadata": {
        "heading_collapsed": true,
        "hidden": true,
        "id": "Z-wUDH_qBD0S"
      },
      "source": [
        "#####  Функция для обработки с помощью pymorhy"
      ]
    },
    {
      "cell_type": "code",
      "metadata": {
        "hidden": true,
        "id": "-SOHRXnyBD0S"
      },
      "source": [
        "# словарь для замены POS-тэгов \n",
        "tags = {'ADJF':'ADJ', # pymorphy2 : udpipe \n",
        "'ADJS' : 'ADJ', \n",
        "'ADVB' : 'ADV', \n",
        "'COMP' : 'ADV', \n",
        "'GRND' : 'VERB', \n",
        "'INFN' : 'VERB', \n",
        "'NOUN' : 'NOUN', \n",
        "'PRED' : 'ADV', \n",
        "'PRTF' : 'ADJ', \n",
        "'PRTS' : 'VERB', \n",
        "'VERB' : 'VERB'}\n",
        "\n",
        "\n",
        "def processing_with_tags(texts):\n",
        "    prog = re.compile(\"[А-Яа-яёA-Za-z]+\")\n",
        "    morph = pymorphy2.MorphAnalyzer()\n",
        "    make_list = []\n",
        "    for text in tqdm(texts):\n",
        "        line = prog.findall(str(text).lower())\n",
        "        words = [morph.parse(token)[0].normal_form + '_' + tags[morph.parse(token)[0].tag.POS] for token in line\n",
        "                if morph.parse(token)[0].tag.POS in tags.keys()]\n",
        "        make_list.append(words)\n",
        "    return make_list"
      ],
      "execution_count": null,
      "outputs": []
    },
    {
      "cell_type": "markdown",
      "metadata": {
        "heading_collapsed": true,
        "hidden": true,
        "id": "ChKMLqUbBD0T"
      },
      "source": [
        "##### Лемматизируем данные, делим на обучающую и тестовую выборку"
      ]
    },
    {
      "cell_type": "code",
      "metadata": {
        "ExecuteTime": {
          "end_time": "2018-11-08T12:55:47.685809Z",
          "start_time": "2018-11-08T12:54:31.701348Z"
        },
        "hidden": true,
        "id": "y4HmkDUxBD0T"
      },
      "source": [
        "data['text_1'] = udpipe_processing(data['text_1'].values)"
      ],
      "execution_count": null,
      "outputs": []
    },
    {
      "cell_type": "code",
      "metadata": {
        "hidden": true,
        "id": "iDW-ZgT8BD0T"
      },
      "source": [
        "data['text_2'] = udpipe_processing(data['text_2'].values)"
      ],
      "execution_count": null,
      "outputs": []
    },
    {
      "cell_type": "code",
      "metadata": {
        "hidden": true,
        "id": "feHDg6xYBD0T"
      },
      "source": [
        "#pd.to_pickle(data, 'data_after_udpipe.pkl')"
      ],
      "execution_count": null,
      "outputs": []
    },
    {
      "cell_type": "code",
      "metadata": {
        "hidden": true,
        "id": "pDQQHz7YBD0T"
      },
      "source": [
        "data = pd.read_pickle('data_after_udpipe.pkl')"
      ],
      "execution_count": null,
      "outputs": []
    },
    {
      "cell_type": "code",
      "metadata": {
        "ExecuteTime": {
          "end_time": "2018-11-08T12:55:49.574432Z",
          "start_time": "2018-11-08T12:55:49.509743Z"
        },
        "hidden": true,
        "id": "giciWpWBBD0U"
      },
      "source": [
        "X_train, X_test, y_train, y_test = train_test_split(data[['text_1', 'text_2']], data['class_bin'], test_size = 0.25,\n",
        "                                                    random_state = 666)"
      ],
      "execution_count": null,
      "outputs": []
    },
    {
      "cell_type": "code",
      "metadata": {
        "id": "BfwYHPjGBD0U",
        "outputId": "72fdb61a-552e-4d85-c372-744db605dfe1"
      },
      "source": [
        "X_train['text_1'][0]"
      ],
      "execution_count": null,
      "outputs": [
        {
          "output_type": "execute_result",
          "data": {
            "text/plain": [
              "['полицейский_NOUN',\n",
              " 'разрешат_VERB',\n",
              " 'стрелять_VERB',\n",
              " 'на_ADP',\n",
              " 'поражение_NOUN',\n",
              " 'по_ADP',\n",
              " 'гражданин_NOUN',\n",
              " 'с_ADP',\n",
              " 'травматикой_NOUN']"
            ]
          },
          "metadata": {
            "tags": []
          },
          "execution_count": 13
        }
      ]
    },
    {
      "cell_type": "markdown",
      "metadata": {
        "heading_collapsed": true,
        "id": "vCF5n144BD0U"
      },
      "source": [
        "#### Строим эмбеддинги: усредненный word2vec"
      ]
    },
    {
      "cell_type": "code",
      "metadata": {
        "ExecuteTime": {
          "end_time": "2018-11-08T14:57:04.919376Z",
          "start_time": "2018-11-08T14:53:09.630155Z"
        },
        "hidden": true,
        "id": "EZ2C1wNOBD0U"
      },
      "source": [
        "# загрузка предобученной модели\n",
        "model = gensim.models.KeyedVectors.load_word2vec_format(\"ruscorpora_upos_skipgram_300_5_2018.vec.gz\")"
      ],
      "execution_count": null,
      "outputs": []
    },
    {
      "cell_type": "code",
      "metadata": {
        "hidden": true,
        "id": "DemqKtTtBD0U"
      },
      "source": [
        "w2v = dict(zip(model.wv.index2word, model.wv.syn0))"
      ],
      "execution_count": null,
      "outputs": []
    },
    {
      "cell_type": "code",
      "metadata": {
        "ExecuteTime": {
          "end_time": "2018-11-08T11:34:41.376387Z",
          "start_time": "2018-11-08T11:34:41.346297Z"
        },
        "hidden": true,
        "id": "uy_K9QHIBD0V"
      },
      "source": [
        "class MeanEmbeddingVectorizer(object):\n",
        "    def __init__(self, word2vec):\n",
        "        self.word2vec = word2vec\n",
        "        self.dim = len(w2v.popitem()[1])\n",
        "\n",
        "    def fit(self, X, y):\n",
        "        return self\n",
        "\n",
        "    def transform(self, X):\n",
        "        return [np.mean([self.word2vec[w] for w in words if w in self.word2vec]\n",
        "                    or [np.zeros(self.dim)], axis=0)\n",
        "            for words in X]"
      ],
      "execution_count": null,
      "outputs": []
    },
    {
      "cell_type": "code",
      "metadata": {
        "ExecuteTime": {
          "end_time": "2018-11-08T15:59:51.492656Z",
          "start_time": "2018-11-08T15:59:51.384312Z"
        },
        "hidden": true,
        "id": "C1MR3ZTxBD0V"
      },
      "source": [
        "mean_emb = MeanEmbeddingVectorizer(w2v)"
      ],
      "execution_count": null,
      "outputs": []
    },
    {
      "cell_type": "code",
      "metadata": {
        "hidden": true,
        "id": "sGMPbgHKBD0V"
      },
      "source": [
        "X_train_text_2 = mean_emb.transform(X_train.text_2.values)\n",
        "X_test_text_2 = mean_emb.transform(X_test.text_2.values)"
      ],
      "execution_count": null,
      "outputs": []
    },
    {
      "cell_type": "code",
      "metadata": {
        "hidden": true,
        "id": "gOyojgW2BD0V"
      },
      "source": [
        "X_train_text_1 = mean_emb.transform(X_train.text_1.values)\n",
        "X_test_text_1 = mean_emb.transform(X_test.text_1.values)"
      ],
      "execution_count": null,
      "outputs": []
    },
    {
      "cell_type": "code",
      "metadata": {
        "hidden": true,
        "id": "8E_YbNucBD0W"
      },
      "source": [
        "X_train = [np.concatenate((X_train_text_1[i], X_train_text_2[i])) for i in range(len(X_train_text_1))]\n",
        "X_test = [np.concatenate((X_test_text_1[i], X_test_text_2[i])) for i in range(len(X_test_text_1))]"
      ],
      "execution_count": null,
      "outputs": []
    },
    {
      "cell_type": "markdown",
      "metadata": {
        "heading_collapsed": true,
        "id": "GpL9eyJnBD0W"
      },
      "source": [
        "#### Word2Vec + LogReg, SVM, RandomForest, GradientBoosting"
      ]
    },
    {
      "cell_type": "code",
      "metadata": {
        "hidden": true,
        "id": "rQ8YGvxGBD0W",
        "outputId": "c815da3a-7666-4126-82cd-75c26fc97ace"
      },
      "source": [
        "pipe_logreg = LogisticRegression(random_state=666, n_jobs = -1)\n",
        "pipe_svm = SVC(random_state=666)\n",
        "pipe_forest = RandomForestClassifier(random_state=666)\n",
        "pipe_boost = GradientBoostingClassifier(random_state=666)\n",
        "\n",
        "grid_params_logreg = [{'penalty': ('l1', 'l2'),\n",
        "                   'C': [1.0, 0.5, 0.1]}] \n",
        "\n",
        "grid_params_svm = [{'kernel': ('linear', 'poly', 'rbf'),\n",
        "                   'C': [1.0, 0.5, 0.1],\n",
        "                   'degree': [3, 5]}] \n",
        "\n",
        "grid_params_forest = [{'n_estimators' : [10, 20], \n",
        "                   'criterion': ('gini', 'entropy'),\n",
        "                   'min_samples_leaf': [50, 100, 200],\n",
        "                   'max_depth': [50, 100],\n",
        "                   'min_samples_split': [50, 100]}]\n",
        "\n",
        "grid_params_boost = [{'loss': ('deviance', 'exponential'), \n",
        "                    'min_samples_leaf': [50, 100], \n",
        "                    'subsample' : [0.5, 0.7, 1.0], \n",
        "                    'n_estimators' : [100, 200]}]\n",
        "\n",
        "\n",
        "models = {'logreg' : [pipe_logreg, grid_params_logreg],\n",
        "          'svm' : [pipe_svm, grid_params_svm], \n",
        "          'forest': [pipe_forest, grid_params_forest],\n",
        "          'boost' : [pipe_boost, grid_params_boost]}\n",
        "\n",
        "scoring = {'accuracy' : make_scorer(accuracy_score), \n",
        "          'f1_score_macro' : make_scorer(f1_score, average = 'macro')}\n",
        "\n",
        "\n",
        "best_acc = 0.0\n",
        "best_f1 = 0.0\n",
        "best_clf_acc = ''\n",
        "best_clf_f1 = ''\n",
        "\n",
        "\n",
        "for clf in models.keys():\n",
        "    print('\\nEstimator: %s' % models[clf])\n",
        "    grid_cv = GridSearchCV(estimator = models[clf][0], param_grid = models[clf][1][0], n_jobs = -1, \n",
        "                           scoring = scoring, refit = 'f1_score_macro')\n",
        "    grid_cv.fit(X_train, y_train)\n",
        "    print('Best params: %s' % grid_cv.best_params_)\n",
        "    print('Best training accuracy: %.3f' % grid_cv.best_score_)\n",
        "    y_pred = grid_cv.predict(X_test)\n",
        "    print('Test set accuracy score for best params: %.3f ' % accuracy_score(y_test, y_pred))\n",
        "    print('Test set f1_score (macro) for best params: %.3f ' % f1_score(y_test, y_pred, average='macro'))\n",
        "    results.add(accuracy_score(y_test, y_pred), clf, 'acc', 'Word2Vec')\n",
        "    results.add(f1_score(y_test, y_pred, average='macro'), clf, 'f1', 'Word2Vec')\n",
        "    if accuracy_score(y_test, y_pred) > best_acc:\n",
        "        best_acc = accuracy_score(y_test, y_pred)\n",
        "        best_clf_acc = str(grid_cv.best_estimator_)\n",
        "        \n",
        "    if f1_score(y_test, y_pred, average='macro') > best_f1:\n",
        "        best_f1 = f1_score(y_test, y_pred, average='macro')\n",
        "        best_clf_f1 = str(grid_cv.best_estimator_)\n",
        "        \n",
        "print('\\nClassifier with best test set accuracy: %s' % best_clf_acc)\n",
        "print('\\nClassifier with best test set f1 macro score: %s' % best_clf_f1)\n"
      ],
      "execution_count": null,
      "outputs": [
        {
          "output_type": "stream",
          "text": [
            "\n",
            "Estimator: [LogisticRegression(C=1.0, class_weight=None, dual=False, fit_intercept=True,\n",
            "          intercept_scaling=1, max_iter=100, multi_class='ovr', n_jobs=-1,\n",
            "          penalty='l2', random_state=666, solver='liblinear', tol=0.0001,\n",
            "          verbose=0, warm_start=False), [{'penalty': ('l1', 'l2'), 'C': [1.0, 0.5, 0.1]}]]\n",
            "Best params: {'C': 1.0, 'penalty': 'l2'}\n",
            "Best training accuracy: 0.537\n",
            "Test set accuracy score for best params: 0.679 \n",
            "Test set f1_score (macro) for best params: 0.567 \n",
            "\n",
            "Estimator: [SVC(C=1.0, cache_size=200, class_weight=None, coef0=0.0,\n",
            "  decision_function_shape='ovr', degree=3, gamma='auto', kernel='rbf',\n",
            "  max_iter=-1, probability=False, random_state=666, shrinking=True,\n",
            "  tol=0.001, verbose=False), [{'kernel': ('linear', 'poly', 'rbf'), 'C': [1.0, 0.5, 0.1], 'degree': [3, 5]}]]\n",
            "Best params: {'C': 1.0, 'degree': 3, 'kernel': 'linear'}\n",
            "Best training accuracy: 0.503\n",
            "Test set accuracy score for best params: 0.680 \n",
            "Test set f1_score (macro) for best params: 0.517 \n",
            "\n",
            "Estimator: [RandomForestClassifier(bootstrap=True, class_weight=None, criterion='gini',\n",
            "            max_depth=None, max_features='auto', max_leaf_nodes=None,\n",
            "            min_impurity_decrease=0.0, min_impurity_split=None,\n",
            "            min_samples_leaf=1, min_samples_split=2,\n",
            "            min_weight_fraction_leaf=0.0, n_estimators=10, n_jobs=1,\n",
            "            oob_score=False, random_state=666, verbose=0, warm_start=False), [{'n_estimators': [10, 20], 'criterion': ('gini', 'entropy'), 'min_samples_leaf': [50, 100, 200], 'max_depth': [50, 100], 'min_samples_split': [50, 100]}]]\n",
            "Best params: {'criterion': 'entropy', 'max_depth': 50, 'min_samples_leaf': 50, 'min_samples_split': 50, 'n_estimators': 10}\n",
            "Best training accuracy: 0.496\n",
            "Test set accuracy score for best params: 0.667 \n",
            "Test set f1_score (macro) for best params: 0.490 \n",
            "\n",
            "Estimator: [GradientBoostingClassifier(criterion='friedman_mse', init=None,\n",
            "              learning_rate=0.1, loss='deviance', max_depth=3,\n",
            "              max_features=None, max_leaf_nodes=None,\n",
            "              min_impurity_decrease=0.0, min_impurity_split=None,\n",
            "              min_samples_leaf=1, min_samples_split=2,\n",
            "              min_weight_fraction_leaf=0.0, n_estimators=100,\n",
            "              presort='auto', random_state=666, subsample=1.0, verbose=0,\n",
            "              warm_start=False), [{'loss': ('deviance', 'exponential'), 'min_samples_leaf': [50, 100], 'subsample': [0.5, 0.7, 1.0], 'n_estimators': [100, 200]}]]\n",
            "Best params: {'loss': 'deviance', 'min_samples_leaf': 100, 'n_estimators': 200, 'subsample': 0.7}\n",
            "Best training accuracy: 0.681\n",
            "Test set accuracy score for best params: 0.728 \n",
            "Test set f1_score (macro) for best params: 0.668 \n",
            "\n",
            "Classifier with best test set accuracy: GradientBoostingClassifier(criterion='friedman_mse', init=None,\n",
            "              learning_rate=0.1, loss='deviance', max_depth=3,\n",
            "              max_features=None, max_leaf_nodes=None,\n",
            "              min_impurity_decrease=0.0, min_impurity_split=None,\n",
            "              min_samples_leaf=100, min_samples_split=2,\n",
            "              min_weight_fraction_leaf=0.0, n_estimators=200,\n",
            "              presort='auto', random_state=666, subsample=0.7, verbose=0,\n",
            "              warm_start=False)\n",
            "\n",
            "Classifier with best test set f1 macro score: GradientBoostingClassifier(criterion='friedman_mse', init=None,\n",
            "              learning_rate=0.1, loss='deviance', max_depth=3,\n",
            "              max_features=None, max_leaf_nodes=None,\n",
            "              min_impurity_decrease=0.0, min_impurity_split=None,\n",
            "              min_samples_leaf=100, min_samples_split=2,\n",
            "              min_weight_fraction_leaf=0.0, n_estimators=200,\n",
            "              presort='auto', random_state=666, subsample=0.7, verbose=0,\n",
            "              warm_start=False)\n"
          ],
          "name": "stdout"
        }
      ]
    },
    {
      "cell_type": "markdown",
      "metadata": {
        "id": "jNkDsi5DBD0X"
      },
      "source": [
        "#### Строим эмбеддинги: усредненный  word2vec с весами"
      ]
    },
    {
      "cell_type": "code",
      "metadata": {
        "id": "6nrTCpFnBD0X"
      },
      "source": [
        "data = pd.read_pickle('data_after_udpipe.pkl')\n",
        "data['class_bin'] = data['class'].apply(lambda x: 1 if x != -1 else -1).values"
      ],
      "execution_count": null,
      "outputs": []
    },
    {
      "cell_type": "code",
      "metadata": {
        "id": "IbGybjvbBD0X"
      },
      "source": [
        "data['text_1_con'] = [' '.join(text) for text in data['text_1']]\n",
        "data['text_2_con'] = [' '.join(text) for text in data['text_2']]\n",
        "corpus = pd.concat([data['text_1_con'], data['text_2_con']]).unique()"
      ],
      "execution_count": null,
      "outputs": []
    },
    {
      "cell_type": "code",
      "metadata": {
        "id": "7va5VJahBD0X"
      },
      "source": [
        "corpus = pd.concat([data['text_1_con'], data['text_2_con']]).unique()"
      ],
      "execution_count": null,
      "outputs": []
    },
    {
      "cell_type": "code",
      "metadata": {
        "id": "kG1cCRznBD0X"
      },
      "source": [
        "X_train, X_test, y_train, y_test = train_test_split(data[['text_1', 'text_2']], data['class_bin'], test_size = 0.25,\n",
        "                                                    random_state = 666)"
      ],
      "execution_count": null,
      "outputs": []
    },
    {
      "cell_type": "code",
      "metadata": {
        "id": "XKpUHBTrBD0Y"
      },
      "source": [
        ""
      ],
      "execution_count": null,
      "outputs": []
    },
    {
      "cell_type": "code",
      "metadata": {
        "id": "KlVHx25DBD0Y"
      },
      "source": [
        "class TfidfEmbeddingVectorizer(object):\n",
        "    def __init__(self, word2vec):\n",
        "        self.word2vec = word2vec\n",
        "        self.word2weight = None\n",
        "        self.dim = len(w2v.popitem()[1])\n",
        "\n",
        "    def fit(self, X):\n",
        "        tfidf = TfidfVectorizer(analyzer=lambda x: x)\n",
        "        tfidf.fit(X)\n",
        "        max_idf = max(tfidf.idf_)\n",
        "        self.word2weight = defaultdict(\n",
        "            lambda: max_idf,\n",
        "            [(w, tfidf.idf_[i]) for w, i in tfidf.vocabulary_.items()])\n",
        "\n",
        "        return self\n",
        "\n",
        "    def transform(self, X):\n",
        "        return np.array([\n",
        "                np.mean([self.word2vec[w] * self.word2weight[w]\n",
        "                         for w in words if w in self.word2vec] or\n",
        "                        [np.zeros(self.dim)], axis=0)\n",
        "                for words in X])"
      ],
      "execution_count": null,
      "outputs": []
    },
    {
      "cell_type": "code",
      "metadata": {
        "id": "Q_1O-ENuBD0Y"
      },
      "source": [
        "w2v = dict(zip(model.wv.index2word, model.wv.syn0)) #  модель эмбеддингов всё та же"
      ],
      "execution_count": null,
      "outputs": []
    },
    {
      "cell_type": "code",
      "metadata": {
        "id": "idEGMgsVBD0Y"
      },
      "source": [
        "tf_emb = TfidfEmbeddingVectorizer(w2v)"
      ],
      "execution_count": null,
      "outputs": []
    },
    {
      "cell_type": "code",
      "metadata": {
        "id": "hyJMZUqEBD0Z",
        "outputId": "58bfeb0c-08dd-402d-d515-2d3d94718ac8"
      },
      "source": [
        "tf_emb.fit(corpus)"
      ],
      "execution_count": null,
      "outputs": [
        {
          "output_type": "execute_result",
          "data": {
            "text/plain": [
              "<__main__.TfidfEmbeddingVectorizer at 0x7fb37896c7b8>"
            ]
          },
          "metadata": {
            "tags": []
          },
          "execution_count": 29
        }
      ]
    },
    {
      "cell_type": "code",
      "metadata": {
        "id": "2KNir64zBD0a"
      },
      "source": [
        "X_train_text_1, X_test_text_1 = tf_emb.transform(X_train.text_1.values), tf_emb.transform(X_test.text_1.values)\n",
        "X_train_text_2, X_test_text_2  = tf_emb.transform(X_train.text_2.values), tf_emb.transform(X_test.text_2.values)"
      ],
      "execution_count": null,
      "outputs": []
    },
    {
      "cell_type": "code",
      "metadata": {
        "id": "weLhuYJQBD0a"
      },
      "source": [
        "X_train = [np.concatenate((X_train_text_1[i], X_train_text_2[i])) for i in range(len(X_train_text_1))]\n",
        "X_test = [np.concatenate((X_test_text_1[i], X_test_text_2[i])) for i in range(len(X_test_text_1))]"
      ],
      "execution_count": null,
      "outputs": []
    },
    {
      "cell_type": "markdown",
      "metadata": {
        "id": "phYAyfrABD0a"
      },
      "source": [
        "#### Weighted Word2Vec + LogReg, SVM, RandomForest, GradientBoosting"
      ]
    },
    {
      "cell_type": "code",
      "metadata": {
        "id": "_DJGqrZTBD0a",
        "outputId": "dddf0c3b-aa1b-4e17-98db-63d0f9a525fb"
      },
      "source": [
        "pipe_logreg = LogisticRegression(random_state=666, n_jobs = -1)\n",
        "\n",
        "pipe_svm = SVC(random_state=666)\n",
        "\n",
        "pipe_forest = RandomForestClassifier(random_state=666)\n",
        "\n",
        "pipe_boost = GradientBoostingClassifier(random_state=666)\n",
        "\n",
        "grid_params_logreg = [{'penalty': ('l1', 'l2'),\n",
        "                   'C': [1.0, 0.5, 0.1]}] \n",
        "\n",
        "grid_params_svm = [{'kernel': ('linear', 'poly', 'rbf'),\n",
        "                   'C': [1.0, 0.5, 0.1],\n",
        "                   'degree': [3, 5]}] \n",
        "\n",
        "grid_params_forest = [{'n_estimators' : [10, 20], \n",
        "                   'criterion': ('gini', 'entropy'),\n",
        "                   'min_samples_leaf': [50, 100, 200],\n",
        "                   'max_depth': [50, 100],\n",
        "                   'min_samples_split': [50, 100]}]\n",
        "\n",
        "grid_params_boost = [{'loss': ('deviance', 'exponential'), \n",
        "                    'min_samples_leaf': [50, 100], \n",
        "                    'subsample' : [0.5, 0.7, 1.0], \n",
        "                    'n_estimators' : [100, 200]}]\n",
        "\n",
        "\n",
        "models = {'logreg' : [pipe_logreg, grid_params_logreg],\n",
        "          'svm' : [pipe_svm, grid_params_svm], \n",
        "          'forest': [pipe_forest, grid_params_forest],\n",
        "          'boost' : [pipe_boost, grid_params_boost]}\n",
        "\n",
        "scoring = {'accuracy' : make_scorer(accuracy_score), \n",
        "          'f1_score_macro' : make_scorer(f1_score, average = 'macro')}\n",
        "\n",
        "\n",
        "best_acc = 0.0\n",
        "best_f1 = 0.0\n",
        "best_clf_acc = ''\n",
        "best_clf_f1 = ''\n",
        "\n",
        "\n",
        "for clf in models.keys():\n",
        "    print('\\nEstimator: %s' % models[clf])\n",
        "    grid_cv = GridSearchCV(estimator = models[clf][0], param_grid = models[clf][1][0], n_jobs = -1, \n",
        "                           scoring = scoring, refit = 'f1_score_macro')\n",
        "    grid_cv.fit(X_train, y_train)\n",
        "    print('Best params: %s' % grid_cv.best_params_)\n",
        "    print('Best training accuracy: %.3f' % grid_cv.best_score_)\n",
        "    y_pred = grid_cv.predict(X_test)\n",
        "    print('Test set accuracy score for best params: %.3f ' % accuracy_score(y_test, y_pred))\n",
        "    print('Test set f1_score (macro) for best params: %.3f ' % f1_score(y_test, y_pred, average='macro'))\n",
        "    results.add(accuracy_score(y_test, y_pred), clf, 'acc', 'Weighted_Word2Vec')\n",
        "    results.add(f1_score(y_test, y_pred, average='macro'), clf, 'f1', 'Weighted_Word2Vec')\n",
        "    if accuracy_score(y_test, y_pred) > best_acc:\n",
        "        best_acc = accuracy_score(y_test, y_pred)\n",
        "        best_clf_acc = str(grid_cv.best_estimator_)\n",
        "        \n",
        "    if f1_score(y_test, y_pred, average='macro') > best_f1:\n",
        "        best_f1 = f1_score(y_test, y_pred, average='macro')\n",
        "        best_clf_f1 = str(grid_cv.best_estimator_)\n",
        "        \n",
        "print('\\nClassifier with best test set accuracy: %s' % best_clf_acc)\n",
        "print('\\nClassifier with best test set f1 macro score: %s' % best_clf_f1)\n"
      ],
      "execution_count": null,
      "outputs": [
        {
          "output_type": "stream",
          "text": [
            "\n",
            "Estimator: [LogisticRegression(C=1.0, class_weight=None, dual=False, fit_intercept=True,\n",
            "          intercept_scaling=1, max_iter=100, multi_class='ovr', n_jobs=-1,\n",
            "          penalty='l2', random_state=666, solver='liblinear', tol=0.0001,\n",
            "          verbose=0, warm_start=False), [{'penalty': ('l1', 'l2'), 'C': [1.0, 0.5, 0.1]}]]\n",
            "Best params: {'C': 0.5, 'penalty': 'l2'}\n",
            "Best training accuracy: 0.592\n",
            "Test set accuracy score for best params: 0.644 \n",
            "Test set f1_score (macro) for best params: 0.580 \n",
            "\n",
            "Estimator: [SVC(C=1.0, cache_size=200, class_weight=None, coef0=0.0,\n",
            "  decision_function_shape='ovr', degree=3, gamma='auto', kernel='rbf',\n",
            "  max_iter=-1, probability=False, random_state=666, shrinking=True,\n",
            "  tol=0.001, verbose=False), [{'kernel': ('linear', 'poly', 'rbf'), 'C': [1.0, 0.5, 0.1], 'degree': [3, 5]}]]\n",
            "Best params: {'C': 0.5, 'degree': 3, 'kernel': 'linear'}\n",
            "Best training accuracy: 0.591\n",
            "Test set accuracy score for best params: 0.653 \n",
            "Test set f1_score (macro) for best params: 0.580 \n",
            "\n",
            "Estimator: [RandomForestClassifier(bootstrap=True, class_weight=None, criterion='gini',\n",
            "            max_depth=None, max_features='auto', max_leaf_nodes=None,\n",
            "            min_impurity_decrease=0.0, min_impurity_split=None,\n",
            "            min_samples_leaf=1, min_samples_split=2,\n",
            "            min_weight_fraction_leaf=0.0, n_estimators=10, n_jobs=1,\n",
            "            oob_score=False, random_state=666, verbose=0, warm_start=False), [{'n_estimators': [10, 20], 'criterion': ('gini', 'entropy'), 'min_samples_leaf': [50, 100, 200], 'max_depth': [50, 100], 'min_samples_split': [50, 100]}]]\n",
            "Best params: {'criterion': 'entropy', 'max_depth': 50, 'min_samples_leaf': 50, 'min_samples_split': 50, 'n_estimators': 10}\n",
            "Best training accuracy: 0.496\n",
            "Test set accuracy score for best params: 0.667 \n",
            "Test set f1_score (macro) for best params: 0.490 \n",
            "\n",
            "Estimator: [GradientBoostingClassifier(criterion='friedman_mse', init=None,\n",
            "              learning_rate=0.1, loss='deviance', max_depth=3,\n",
            "              max_features=None, max_leaf_nodes=None,\n",
            "              min_impurity_decrease=0.0, min_impurity_split=None,\n",
            "              min_samples_leaf=1, min_samples_split=2,\n",
            "              min_weight_fraction_leaf=0.0, n_estimators=100,\n",
            "              presort='auto', random_state=666, subsample=1.0, verbose=0,\n",
            "              warm_start=False), [{'loss': ('deviance', 'exponential'), 'min_samples_leaf': [50, 100], 'subsample': [0.5, 0.7, 1.0], 'n_estimators': [100, 200]}]]\n",
            "Best params: {'loss': 'deviance', 'min_samples_leaf': 100, 'n_estimators': 200, 'subsample': 0.7}\n",
            "Best training accuracy: 0.683\n",
            "Test set accuracy score for best params: 0.728 \n",
            "Test set f1_score (macro) for best params: 0.668 \n",
            "\n",
            "Classifier with best test set accuracy: GradientBoostingClassifier(criterion='friedman_mse', init=None,\n",
            "              learning_rate=0.1, loss='deviance', max_depth=3,\n",
            "              max_features=None, max_leaf_nodes=None,\n",
            "              min_impurity_decrease=0.0, min_impurity_split=None,\n",
            "              min_samples_leaf=100, min_samples_split=2,\n",
            "              min_weight_fraction_leaf=0.0, n_estimators=200,\n",
            "              presort='auto', random_state=666, subsample=0.7, verbose=0,\n",
            "              warm_start=False)\n",
            "\n",
            "Classifier with best test set f1 macro score: GradientBoostingClassifier(criterion='friedman_mse', init=None,\n",
            "              learning_rate=0.1, loss='deviance', max_depth=3,\n",
            "              max_features=None, max_leaf_nodes=None,\n",
            "              min_impurity_decrease=0.0, min_impurity_split=None,\n",
            "              min_samples_leaf=100, min_samples_split=2,\n",
            "              min_weight_fraction_leaf=0.0, n_estimators=200,\n",
            "              presort='auto', random_state=666, subsample=0.7, verbose=0,\n",
            "              warm_start=False)\n"
          ],
          "name": "stdout"
        }
      ]
    },
    {
      "cell_type": "markdown",
      "metadata": {
        "id": "pzN6W_QTBD0b"
      },
      "source": [
        "### 2.2 Doc2vec"
      ]
    },
    {
      "cell_type": "markdown",
      "metadata": {
        "heading_collapsed": true,
        "id": "hA7-eDxlBD0b"
      },
      "source": [
        "#### Лемматизируем данные, делим выборку на train и test, конкатенируем пары для создания корпуса для doc2vec"
      ]
    },
    {
      "cell_type": "code",
      "metadata": {
        "ExecuteTime": {
          "end_time": "2018-11-09T11:11:38.562616Z",
          "start_time": "2018-11-09T11:11:38.490953Z"
        },
        "hidden": true,
        "id": "u4anh-jNBD0b"
      },
      "source": [
        "data = pd.read_csv('data_hw2.csv')\n",
        "data['class_bin'] = data['class'].apply(lambda x: 1 if x != -1 else -1).values"
      ],
      "execution_count": null,
      "outputs": []
    },
    {
      "cell_type": "code",
      "metadata": {
        "ExecuteTime": {
          "end_time": "2018-11-09T11:12:39.089563Z",
          "start_time": "2018-11-09T11:12:02.478060Z"
        },
        "hidden": true,
        "id": "6yNCK6f6BD0c",
        "outputId": "e615803d-5b4e-46a9-9f15-da12088d55c7"
      },
      "source": [
        "data['text_1'] = simple_processing(data['text_1'].values)  # используем лемматизацию из unsupervised части"
      ],
      "execution_count": null,
      "outputs": [
        {
          "output_type": "stream",
          "text": [
            "100%|██████████| 7227/7227 [00:21<00:00, 343.23it/s]\n"
          ],
          "name": "stderr"
        }
      ]
    },
    {
      "cell_type": "code",
      "metadata": {
        "ExecuteTime": {
          "end_time": "2018-11-09T11:13:11.940987Z",
          "start_time": "2018-11-09T11:12:39.094056Z"
        },
        "hidden": true,
        "id": "RZOrhLYNBD0c",
        "outputId": "604e06a6-2b7b-4c62-a4e0-db112e60a108"
      },
      "source": [
        "data['text_2'] = simple_processing(data['text_2'].values)"
      ],
      "execution_count": null,
      "outputs": [
        {
          "output_type": "stream",
          "text": [
            "100%|██████████| 7227/7227 [00:18<00:00, 381.10it/s]\n"
          ],
          "name": "stderr"
        }
      ]
    },
    {
      "cell_type": "code",
      "metadata": {
        "ExecuteTime": {
          "end_time": "2018-11-09T11:26:22.430450Z",
          "start_time": "2018-11-09T11:26:22.406552Z"
        },
        "hidden": true,
        "id": "_s9dkj6kBD0c"
      },
      "source": [
        "X_train, X_test, y_train, y_test = train_test_split(data[['text_1', 'text_2']], data['class_bin'], \n",
        "                                                    test_size=0.25, random_state=42)"
      ],
      "execution_count": null,
      "outputs": []
    },
    {
      "cell_type": "code",
      "metadata": {
        "ExecuteTime": {
          "end_time": "2018-11-09T11:26:24.930670Z",
          "start_time": "2018-11-09T11:26:24.599619Z"
        },
        "hidden": true,
        "id": "Pvc0H078BD0c"
      },
      "source": [
        "# строим корпус для обучения doc2vec\n",
        "corpus = pd.DataFrame(pd.concat([X_train['text_1'], X_train['text_2']])).apply(lambda x: ' '.join(x[0]), axis = 1)\n",
        "corpus = corpus.drop_duplicates(keep = 'first') #10840 -> 9263\n",
        "corpus = corpus.apply(lambda x: x.split(' '))"
      ],
      "execution_count": null,
      "outputs": []
    },
    {
      "cell_type": "markdown",
      "metadata": {
        "heading_collapsed": true,
        "id": "pIpQBKdIBD0d"
      },
      "source": [
        "#### Строим эмбеддинги: doc2vec"
      ]
    },
    {
      "cell_type": "code",
      "metadata": {
        "ExecuteTime": {
          "end_time": "2018-11-09T11:36:35.957891Z",
          "start_time": "2018-11-09T11:36:00.211661Z"
        },
        "hidden": true,
        "id": "qTfnoUlHBD0d",
        "outputId": "150dd165-db88-482c-d4b8-24c11682e182"
      },
      "source": [
        "tagged_data = [TaggedDocument(words=words, tags=[str(i)]) for i, words in enumerate(corpus.values)]\n",
        "max_epochs = 20\n",
        "vec_size = 100\n",
        "alpha = 0.025\n",
        "\n",
        "model = Doc2Vec(size=vec_size,\n",
        "                alpha=alpha, \n",
        "                min_alpha=0.00025,\n",
        "                min_count=1,\n",
        "                dm=0,\n",
        "                dbow_words=0)\n",
        "  \n",
        "model.build_vocab(tagged_data)\n",
        "\n",
        "for epoch in range(max_epochs):\n",
        "    print('iteration {0}'.format(epoch))\n",
        "    model.train(tagged_data,\n",
        "                total_examples=model.corpus_count,\n",
        "                epochs=model.iter)\n",
        "    model.alpha -= 0.0002\n",
        "    model.min_alpha = model.alpha\n",
        "\n"
      ],
      "execution_count": null,
      "outputs": [
        {
          "output_type": "stream",
          "text": [
            "iteration 0\n",
            "iteration 1\n",
            "iteration 2\n",
            "iteration 3\n",
            "iteration 4\n",
            "iteration 5\n",
            "iteration 6\n",
            "iteration 7\n",
            "iteration 8\n",
            "iteration 9\n",
            "iteration 10\n",
            "iteration 11\n",
            "iteration 12\n",
            "iteration 13\n",
            "iteration 14\n",
            "iteration 15\n",
            "iteration 16\n",
            "iteration 17\n",
            "iteration 18\n",
            "iteration 19\n"
          ],
          "name": "stdout"
        }
      ]
    },
    {
      "cell_type": "code",
      "metadata": {
        "ExecuteTime": {
          "end_time": "2018-11-09T11:37:28.235712Z",
          "start_time": "2018-11-09T11:37:28.230957Z"
        },
        "hidden": true,
        "id": "UBZEKRxvBD0d"
      },
      "source": [
        "class Doc2VecVectorizer(object):\n",
        "    def __init__(self, d2v_model):\n",
        "        self.d2v_model = d2v_model\n",
        "        self.dim = d2v_model.vector_size\n",
        "        \n",
        "    def fit(self, X, y):\n",
        "        return self\n",
        "\n",
        "    def transform(self, X):\n",
        "        return np.array([self.d2v_model.infer_vector(text) for text in X])"
      ],
      "execution_count": null,
      "outputs": []
    },
    {
      "cell_type": "code",
      "metadata": {
        "ExecuteTime": {
          "end_time": "2018-11-09T11:41:19.574963Z",
          "start_time": "2018-11-09T11:41:17.582874Z"
        },
        "hidden": true,
        "id": "QYYFf_AtBD0d"
      },
      "source": [
        "d2v = Doc2VecVectorizer(model)\n",
        "X_train_text_2 = d2v.transform(X_train.text_2.values)\n",
        "X_test_text_2 = d2v.transform(X_test.text_2.values)\n",
        "X_train_text_1 = d2v.transform(X_train.text_1.values)\n",
        "X_test_text_1 = d2v.transform(X_test.text_1.values)"
      ],
      "execution_count": null,
      "outputs": []
    },
    {
      "cell_type": "code",
      "metadata": {
        "ExecuteTime": {
          "end_time": "2018-11-09T11:41:39.212240Z",
          "start_time": "2018-11-09T11:41:39.168896Z"
        },
        "hidden": true,
        "id": "E8RU8vR4BD0d"
      },
      "source": [
        "X_train = [np.concatenate((X_train_text_1[i], X_train_text_2[i])) for i in range(len(X_train_text_1))]\n",
        "X_test = [np.concatenate((X_test_text_1[i], X_test_text_2[i])) for i in range(len(X_test_text_1))]"
      ],
      "execution_count": null,
      "outputs": []
    },
    {
      "cell_type": "markdown",
      "metadata": {
        "heading_collapsed": true,
        "id": "TWMHqz6LBD0e"
      },
      "source": [
        "#### Doc2Vec + LogReg, SVM, RandomForest, GradientBoosting"
      ]
    },
    {
      "cell_type": "code",
      "metadata": {
        "ExecuteTime": {
          "end_time": "2018-11-09T13:36:34.352971Z",
          "start_time": "2018-11-09T13:18:51.494187Z"
        },
        "hidden": true,
        "scrolled": true,
        "id": "mK7wjA3oBD0e",
        "outputId": "e14bff27-c100-4c74-eea4-c8977f121f39"
      },
      "source": [
        "pipe_logreg = LogisticRegression(random_state=666, n_jobs = -1)\n",
        "\n",
        "pipe_svm = SVC(random_state=666)\n",
        "\n",
        "pipe_forest = RandomForestClassifier(random_state=666)\n",
        "\n",
        "pipe_boost = GradientBoostingClassifier(random_state=666)\n",
        "\n",
        "grid_params_logreg = [{'penalty': ('l1', 'l2'),\n",
        "                   'C': [1.0, 0.5, 0.1]}] \n",
        "\n",
        "grid_params_svm = [{'kernel': ('linear', 'poly', 'rbf'),\n",
        "                   'C': [1.0, 0.5, 0.1],\n",
        "                   'degree': [3, 5]}] \n",
        "\n",
        "grid_params_forest = [{'n_estimators' : [10, 20], \n",
        "                   'criterion': ('gini', 'entropy'),\n",
        "                   'min_samples_leaf': [50, 100, 200],\n",
        "                   'max_depth': [50, 100],\n",
        "                   'min_samples_split': [50, 100]}]\n",
        "\n",
        "grid_params_boost = [{'loss': ('deviance', 'exponential'), \n",
        "                    'min_samples_leaf': [50, 100], \n",
        "                    'subsample' : [0.5, 0.7, 1.0], \n",
        "                    'n_estimators' : [100, 200]}]\n",
        "\n",
        "\n",
        "models = {'logreg' : [pipe_logreg, grid_params_logreg],\n",
        "          'svm' : [pipe_svm, grid_params_svm], \n",
        "          'forest': [pipe_forest, grid_params_forest],\n",
        "          'boost' : [pipe_boost, grid_params_boost]}\n",
        "\n",
        "scoring = {'accuracy' : make_scorer(accuracy_score), \n",
        "          'f1_score_macro' : make_scorer(f1_score, average = 'macro')}\n",
        "\n",
        "\n",
        "best_acc = 0.0\n",
        "best_f1 = 0.0\n",
        "best_clf_acc = ''\n",
        "best_clf_f1 = ''\n",
        "\n",
        "\n",
        "for clf in models.keys():\n",
        "    print('\\nEstimator: %s' % models[clf])\n",
        "    grid_cv = GridSearchCV(estimator = models[clf][0], param_grid = models[clf][1][0], n_jobs = -1, \n",
        "                           scoring = scoring, refit = 'f1_score_macro')\n",
        "    grid_cv.fit(X_train, y_train)\n",
        "    print('Best params: %s' % grid_cv.best_params_)\n",
        "    print('Best training accuracy: %.3f' % grid_cv.best_score_)\n",
        "    y_pred = grid_cv.predict(X_test)\n",
        "    print('Test set accuracy score for best params: %.3f ' % accuracy_score(y_test, y_pred))\n",
        "    print('Test set f1_score (macro) for best params: %.3f ' % f1_score(y_test, y_pred, average='macro'))\n",
        "    results.add(accuracy_score(y_test, y_pred), clf, 'acc', 'Doc2Vec')\n",
        "    results.add(f1_score(y_test, y_pred, average='macro'), clf, 'f1', 'Doc2Vec')\n",
        "    if accuracy_score(y_test, y_pred) > best_acc:\n",
        "        best_acc = accuracy_score(y_test, y_pred)\n",
        "        best_clf_acc = str(grid_cv.best_estimator_)\n",
        "        \n",
        "    if f1_score(y_test, y_pred, average='macro') > best_f1:\n",
        "        best_f1 = f1_score(y_test, y_pred, average='macro')\n",
        "        best_clf_f1 = str(grid_cv.best_estimator_)\n",
        "        \n",
        "print('\\nClassifier with best test set accuracy: %s' % best_clf_acc)\n",
        "print('\\nClassifier with best test set f1 macro score: %s' % best_clf_f1)"
      ],
      "execution_count": null,
      "outputs": [
        {
          "output_type": "stream",
          "text": [
            "\n",
            "Estimator: [LogisticRegression(C=1.0, class_weight=None, dual=False, fit_intercept=True,\n",
            "          intercept_scaling=1, max_iter=100, multi_class='ovr', n_jobs=-1,\n",
            "          penalty='l2', random_state=666, solver='liblinear', tol=0.0001,\n",
            "          verbose=0, warm_start=False), [{'penalty': ('l1', 'l2'), 'C': [1.0, 0.5, 0.1]}]]\n",
            "Best params: {'C': 1.0, 'penalty': 'l2'}\n",
            "Best training accuracy: 0.599\n",
            "Test set accuracy score for best params: 0.664 \n",
            "Test set f1_score (macro) for best params: 0.610 \n",
            "\n",
            "Estimator: [SVC(C=1.0, cache_size=200, class_weight=None, coef0=0.0,\n",
            "  decision_function_shape='ovr', degree=3, gamma='auto', kernel='rbf',\n",
            "  max_iter=-1, probability=False, random_state=666, shrinking=True,\n",
            "  tol=0.001, verbose=False), [{'kernel': ('linear', 'poly', 'rbf'), 'C': [1.0, 0.5, 0.1], 'degree': [3, 5]}]]\n",
            "Best params: {'C': 1.0, 'degree': 3, 'kernel': 'linear'}\n",
            "Best training accuracy: 0.575\n",
            "Test set accuracy score for best params: 0.678 \n",
            "Test set f1_score (macro) for best params: 0.581 \n",
            "\n",
            "Estimator: [RandomForestClassifier(bootstrap=True, class_weight=None, criterion='gini',\n",
            "            max_depth=None, max_features='auto', max_leaf_nodes=None,\n",
            "            min_impurity_decrease=0.0, min_impurity_split=None,\n",
            "            min_samples_leaf=1, min_samples_split=2,\n",
            "            min_weight_fraction_leaf=0.0, n_estimators=10, n_jobs=1,\n",
            "            oob_score=False, random_state=666, verbose=0, warm_start=False), [{'n_estimators': [10, 20], 'criterion': ('gini', 'entropy'), 'min_samples_leaf': [50, 100, 200], 'max_depth': [50, 100], 'min_samples_split': [50, 100]}]]\n",
            "Best params: {'criterion': 'entropy', 'max_depth': 50, 'min_samples_leaf': 50, 'min_samples_split': 50, 'n_estimators': 10}\n",
            "Best training accuracy: 0.513\n",
            "Test set accuracy score for best params: 0.681 \n",
            "Test set f1_score (macro) for best params: 0.548 \n",
            "\n",
            "Estimator: [GradientBoostingClassifier(criterion='friedman_mse', init=None,\n",
            "              learning_rate=0.1, loss='deviance', max_depth=3,\n",
            "              max_features=None, max_leaf_nodes=None,\n",
            "              min_impurity_decrease=0.0, min_impurity_split=None,\n",
            "              min_samples_leaf=1, min_samples_split=2,\n",
            "              min_weight_fraction_leaf=0.0, n_estimators=100,\n",
            "              presort='auto', random_state=666, subsample=1.0, verbose=0,\n",
            "              warm_start=False), [{'loss': ('deviance', 'exponential'), 'min_samples_leaf': [50, 100], 'subsample': [0.5, 0.7, 1.0], 'n_estimators': [100, 200]}]]\n",
            "Best params: {'loss': 'deviance', 'min_samples_leaf': 100, 'n_estimators': 200, 'subsample': 0.7}\n",
            "Best training accuracy: 0.714\n",
            "Test set accuracy score for best params: 0.755 \n",
            "Test set f1_score (macro) for best params: 0.720 \n",
            "\n",
            "Classifier with best test set accuracy: GradientBoostingClassifier(criterion='friedman_mse', init=None,\n",
            "              learning_rate=0.1, loss='deviance', max_depth=3,\n",
            "              max_features=None, max_leaf_nodes=None,\n",
            "              min_impurity_decrease=0.0, min_impurity_split=None,\n",
            "              min_samples_leaf=100, min_samples_split=2,\n",
            "              min_weight_fraction_leaf=0.0, n_estimators=200,\n",
            "              presort='auto', random_state=666, subsample=0.7, verbose=0,\n",
            "              warm_start=False)\n",
            "\n",
            "Classifier with best test set f1 macro score: GradientBoostingClassifier(criterion='friedman_mse', init=None,\n",
            "              learning_rate=0.1, loss='deviance', max_depth=3,\n",
            "              max_features=None, max_leaf_nodes=None,\n",
            "              min_impurity_decrease=0.0, min_impurity_split=None,\n",
            "              min_samples_leaf=100, min_samples_split=2,\n",
            "              min_weight_fraction_leaf=0.0, n_estimators=200,\n",
            "              presort='auto', random_state=666, subsample=0.7, verbose=0,\n",
            "              warm_start=False)\n"
          ],
          "name": "stdout"
        }
      ]
    },
    {
      "cell_type": "markdown",
      "metadata": {
        "id": "1d7SdFsoBD0e"
      },
      "source": [
        "### FastText"
      ]
    },
    {
      "cell_type": "markdown",
      "metadata": {
        "id": "fi_DFaFFBD0e"
      },
      "source": [
        "#### Усредненный FastText "
      ]
    },
    {
      "cell_type": "code",
      "metadata": {
        "id": "xlTooHlkBD0e"
      },
      "source": [
        "model = FastText.load_fasttext_format('cc.ru.300.bin')"
      ],
      "execution_count": null,
      "outputs": []
    },
    {
      "cell_type": "code",
      "metadata": {
        "scrolled": true,
        "id": "UPBPLUx-BD0f",
        "outputId": "da3ac447-6757-440a-df64-38d4ac691ae3"
      },
      "source": [
        "data = pd.read_csv('data_hw2.csv')\n",
        "data['class_bin'] = data['class'].apply(lambda x: 1 if x != -1 else -1).values\n",
        "data['text_1'] = simple_processing(data['text_1'])\n",
        "data['text_2'] = simple_processing(data['text_2'])"
      ],
      "execution_count": null,
      "outputs": [
        {
          "output_type": "stream",
          "text": [
            "100%|██████████| 7227/7227 [00:25<00:00, 287.58it/s]\n",
            "100%|██████████| 7227/7227 [00:22<00:00, 321.42it/s]\n"
          ],
          "name": "stderr"
        }
      ]
    },
    {
      "cell_type": "code",
      "metadata": {
        "id": "73S_9biwBD0f"
      },
      "source": [
        "data['text_1_con'] = [' '.join(text) for text in data['text_1']]\n",
        "data['text_2_con'] = [' '.join(text) for text in data['text_2']]"
      ],
      "execution_count": null,
      "outputs": []
    },
    {
      "cell_type": "code",
      "metadata": {
        "id": "h0iR2CjiBD0f"
      },
      "source": [
        "corpus = pd.concat([data['text_1_con'], data['text_2_con']]).unique()"
      ],
      "execution_count": null,
      "outputs": []
    },
    {
      "cell_type": "code",
      "metadata": {
        "id": "h9NHyJEpBD0f"
      },
      "source": [
        "X_train, X_test, y_train, y_test = train_test_split(data[['text_1', 'text_2']], data['class_bin'], test_size = 0.25,\n",
        "                                                    random_state = 666)"
      ],
      "execution_count": null,
      "outputs": []
    },
    {
      "cell_type": "code",
      "metadata": {
        "id": "xL9WiITWBD0f"
      },
      "source": [
        "w2v = dict(zip(model.wv.index2word, model.wv.syn0))"
      ],
      "execution_count": null,
      "outputs": []
    },
    {
      "cell_type": "code",
      "metadata": {
        "id": "ytj5vNOPBD0f"
      },
      "source": [
        "mean_emb = MeanEmbeddingVectorizer(w2v)"
      ],
      "execution_count": null,
      "outputs": []
    },
    {
      "cell_type": "code",
      "metadata": {
        "id": "1BFwSZzaBD0g"
      },
      "source": [
        "X_train_text_2 = mean_emb.transform(X_train.text_2.values)\n",
        "X_test_text_2 = mean_emb.transform(X_test.text_2.values)"
      ],
      "execution_count": null,
      "outputs": []
    },
    {
      "cell_type": "code",
      "metadata": {
        "id": "ZwCT-wNDBD0g"
      },
      "source": [
        "X_train_text_1 = mean_emb.transform(X_train.text_1.values)\n",
        "X_test_text_1 = mean_emb.transform(X_test.text_1.values)"
      ],
      "execution_count": null,
      "outputs": []
    },
    {
      "cell_type": "code",
      "metadata": {
        "id": "ErGw4MMBBD0g"
      },
      "source": [
        "X_train = [np.concatenate((X_train_text_1[i], X_train_text_2[i])) for i in range(len(X_train_text_1))]\n",
        "X_test = [np.concatenate((X_test_text_1[i], X_test_text_2[i])) for i in range(len(X_test_text_1))]"
      ],
      "execution_count": null,
      "outputs": []
    },
    {
      "cell_type": "markdown",
      "metadata": {
        "id": "n_Dr1jyMBD0g"
      },
      "source": [
        "#### FastText + LogReg, SVM, RandomForest, GradientBoosting"
      ]
    },
    {
      "cell_type": "code",
      "metadata": {
        "id": "fdQdXb7SBD0g",
        "outputId": "9d3bcbe7-f3b2-4e96-922b-7e0108ba2bcf"
      },
      "source": [
        "pipe_logreg = LogisticRegression(random_state=666, n_jobs = -1)\n",
        "\n",
        "pipe_svm = SVC(random_state=666)\n",
        "\n",
        "pipe_forest = RandomForestClassifier(random_state=666)\n",
        "\n",
        "pipe_boost = GradientBoostingClassifier(random_state=666)\n",
        "\n",
        "grid_params_logreg = [{'penalty': ('l1', 'l2'),\n",
        "                   'C': [1.0, 0.5, 0.1]}] \n",
        "\n",
        "grid_params_svm = [{'kernel': ('linear', 'poly', 'rbf'),\n",
        "                   'C': [1.0, 0.5, 0.1],\n",
        "                   'degree': [3, 5]}] \n",
        "\n",
        "grid_params_forest = [{'n_estimators' : [10, 20], \n",
        "                   'criterion': ('gini', 'entropy'),\n",
        "                   'min_samples_leaf': [50, 100, 200],\n",
        "                   'max_depth': [50, 100],\n",
        "                   'min_samples_split': [50, 100]}]\n",
        "\n",
        "grid_params_boost = [{'loss': ('deviance', 'exponential'), \n",
        "                    'min_samples_leaf': [50, 100], \n",
        "                    'subsample' : [0.5, 0.7, 1.0], \n",
        "                    'n_estimators' : [100, 200]}]\n",
        "\n",
        "\n",
        "models = {'logreg' : [pipe_logreg, grid_params_logreg],\n",
        "          'svm' : [pipe_svm, grid_params_svm], \n",
        "          'forest': [pipe_forest, grid_params_forest],\n",
        "          'boost' : [pipe_boost, grid_params_boost]}\n",
        "\n",
        "scoring = {'accuracy' : make_scorer(accuracy_score), \n",
        "          'f1_score_macro' : make_scorer(f1_score, average = 'macro')}\n",
        "\n",
        "\n",
        "best_acc = 0.0\n",
        "best_f1 = 0.0\n",
        "best_clf_acc = ''\n",
        "best_clf_f1 = ''\n",
        "\n",
        "\n",
        "for clf in models.keys():\n",
        "    print('\\nEstimator: %s' % models[clf])\n",
        "    grid_cv = GridSearchCV(estimator = models[clf][0], param_grid = models[clf][1][0], n_jobs = -1, \n",
        "                           scoring = scoring, refit = 'f1_score_macro')\n",
        "    grid_cv.fit(X_train, y_train)\n",
        "    print('Best params: %s' % grid_cv.best_params_)\n",
        "    print('Best training accuracy: %.3f' % grid_cv.best_score_)\n",
        "    y_pred = grid_cv.predict(X_test)\n",
        "    print('Test set accuracy score for best params: %.3f ' % accuracy_score(y_test, y_pred))\n",
        "    print('Test set f1_score (macro) for best params: %.3f ' % f1_score(y_test, y_pred, average='macro'))\n",
        "    results.add(accuracy_score(y_test, y_pred), clf, 'acc', 'Fasttext')\n",
        "    results.add(f1_score(y_test, y_pred, average='macro'), clf, 'f1', 'Fasttext')\n",
        "    \n",
        "    if accuracy_score(y_test, y_pred) > best_acc:\n",
        "        best_acc = accuracy_score(y_test, y_pred)\n",
        "        best_clf_acc = str(grid_cv.best_estimator_)\n",
        "        \n",
        "    if f1_score(y_test, y_pred, average='macro') > best_f1:\n",
        "        best_f1 = f1_score(y_test, y_pred, average='macro')\n",
        "        best_clf_f1 = str(grid_cv.best_estimator_)\n",
        "        \n",
        "print('\\nClassifier with best test set accuracy: %s' % best_clf_acc)\n",
        "print('\\nClassifier with best test set f1 macro score: %s' % best_clf_f1)\n"
      ],
      "execution_count": null,
      "outputs": [
        {
          "output_type": "stream",
          "text": [
            "\n",
            "Estimator: [LogisticRegression(C=1.0, class_weight=None, dual=False, fit_intercept=True,\n",
            "          intercept_scaling=1, max_iter=100, multi_class='ovr', n_jobs=-1,\n",
            "          penalty='l2', random_state=666, solver='liblinear', tol=0.0001,\n",
            "          verbose=0, warm_start=False), [{'penalty': ('l1', 'l2'), 'C': [1.0, 0.5, 0.1]}]]\n",
            "Best params: {'C': 1.0, 'penalty': 'l1'}\n",
            "Best training accuracy: 0.569\n",
            "Test set accuracy score for best params: 0.681 \n",
            "Test set f1_score (macro) for best params: 0.573 \n",
            "\n",
            "Estimator: [SVC(C=1.0, cache_size=200, class_weight=None, coef0=0.0,\n",
            "  decision_function_shape='ovr', degree=3, gamma='auto', kernel='rbf',\n",
            "  max_iter=-1, probability=False, random_state=666, shrinking=True,\n",
            "  tol=0.001, verbose=False), [{'kernel': ('linear', 'poly', 'rbf'), 'C': [1.0, 0.5, 0.1], 'degree': [3, 5]}]]\n",
            "Best params: {'C': 1.0, 'degree': 3, 'kernel': 'linear'}\n",
            "Best training accuracy: 0.512\n",
            "Test set accuracy score for best params: 0.677 \n",
            "Test set f1_score (macro) for best params: 0.515 \n",
            "\n",
            "Estimator: [RandomForestClassifier(bootstrap=True, class_weight=None, criterion='gini',\n",
            "            max_depth=None, max_features='auto', max_leaf_nodes=None,\n",
            "            min_impurity_decrease=0.0, min_impurity_split=None,\n",
            "            min_samples_leaf=1, min_samples_split=2,\n",
            "            min_weight_fraction_leaf=0.0, n_estimators=10, n_jobs=1,\n",
            "            oob_score=False, random_state=666, verbose=0, warm_start=False), [{'n_estimators': [10, 20], 'criterion': ('gini', 'entropy'), 'min_samples_leaf': [50, 100, 200], 'max_depth': [50, 100], 'min_samples_split': [50, 100]}]]\n",
            "Best params: {'criterion': 'gini', 'max_depth': 50, 'min_samples_leaf': 50, 'min_samples_split': 50, 'n_estimators': 10}\n",
            "Best training accuracy: 0.518\n",
            "Test set accuracy score for best params: 0.678 \n",
            "Test set f1_score (macro) for best params: 0.523 \n",
            "\n",
            "Estimator: [GradientBoostingClassifier(criterion='friedman_mse', init=None,\n",
            "              learning_rate=0.1, loss='deviance', max_depth=3,\n",
            "              max_features=None, max_leaf_nodes=None,\n",
            "              min_impurity_decrease=0.0, min_impurity_split=None,\n",
            "              min_samples_leaf=1, min_samples_split=2,\n",
            "              min_weight_fraction_leaf=0.0, n_estimators=100,\n",
            "              presort='auto', random_state=666, subsample=1.0, verbose=0,\n",
            "              warm_start=False), [{'loss': ('deviance', 'exponential'), 'min_samples_leaf': [50, 100], 'subsample': [0.5, 0.7, 1.0], 'n_estimators': [100, 200]}]]\n",
            "Best params: {'loss': 'deviance', 'min_samples_leaf': 100, 'n_estimators': 200, 'subsample': 1.0}\n",
            "Best training accuracy: 0.717\n",
            "Test set accuracy score for best params: 0.755 \n",
            "Test set f1_score (macro) for best params: 0.702 \n",
            "\n",
            "Classifier with best test set accuracy: GradientBoostingClassifier(criterion='friedman_mse', init=None,\n",
            "              learning_rate=0.1, loss='deviance', max_depth=3,\n",
            "              max_features=None, max_leaf_nodes=None,\n",
            "              min_impurity_decrease=0.0, min_impurity_split=None,\n",
            "              min_samples_leaf=100, min_samples_split=2,\n",
            "              min_weight_fraction_leaf=0.0, n_estimators=200,\n",
            "              presort='auto', random_state=666, subsample=1.0, verbose=0,\n",
            "              warm_start=False)\n",
            "\n",
            "Classifier with best test set f1 macro score: GradientBoostingClassifier(criterion='friedman_mse', init=None,\n",
            "              learning_rate=0.1, loss='deviance', max_depth=3,\n",
            "              max_features=None, max_leaf_nodes=None,\n",
            "              min_impurity_decrease=0.0, min_impurity_split=None,\n",
            "              min_samples_leaf=100, min_samples_split=2,\n",
            "              min_weight_fraction_leaf=0.0, n_estimators=200,\n",
            "              presort='auto', random_state=666, subsample=1.0, verbose=0,\n",
            "              warm_start=False)\n"
          ],
          "name": "stdout"
        }
      ]
    },
    {
      "cell_type": "markdown",
      "metadata": {
        "id": "j3gPuqCyBD0g"
      },
      "source": [
        "#### Weighted FastText"
      ]
    },
    {
      "cell_type": "code",
      "metadata": {
        "id": "__idJpx3BD0h",
        "outputId": "c0020ab2-936d-46dd-cede-cce35875e83d"
      },
      "source": [
        "data = pd.read_csv('data_hw2.csv')\n",
        "data['class_bin'] = data['class'].apply(lambda x: 1 if x != -1 else -1).values\n",
        "data['text_1'] = simple_processing(data['text_1'])\n",
        "data['text_2'] = simple_processing(data['text_2'])"
      ],
      "execution_count": null,
      "outputs": [
        {
          "output_type": "stream",
          "text": [
            "100%|██████████| 7227/7227 [00:25<00:00, 286.87it/s]\n",
            "100%|██████████| 7227/7227 [00:22<00:00, 314.73it/s]\n"
          ],
          "name": "stderr"
        }
      ]
    },
    {
      "cell_type": "code",
      "metadata": {
        "id": "PBVzREhJBD0h"
      },
      "source": [
        "X_train, X_test, y_train, y_test = train_test_split(data[['text_1', 'text_2']], data['class_bin'], test_size = 0.25,\n",
        "                                                    random_state = 666)"
      ],
      "execution_count": null,
      "outputs": []
    },
    {
      "cell_type": "code",
      "metadata": {
        "id": "6iHOmbWlBD0h",
        "outputId": "71c11ae2-d121-4fba-eb5a-af0cb6ce8596"
      },
      "source": [
        "tf_emb = TfidfEmbeddingVectorizer(w2v)\n",
        "tf_emb.fit(corpus)"
      ],
      "execution_count": null,
      "outputs": [
        {
          "output_type": "execute_result",
          "data": {
            "text/plain": [
              "<__main__.TfidfEmbeddingVectorizer at 0x7fb155544198>"
            ]
          },
          "metadata": {
            "tags": []
          },
          "execution_count": 60
        }
      ]
    },
    {
      "cell_type": "code",
      "metadata": {
        "id": "4BhP6NmoBD0h"
      },
      "source": [
        "X_train_text_1, X_test_text_1 = tf_emb.transform(X_train.text_1.values), tf_emb.transform(X_test.text_1.values)\n",
        "X_train_text_2, X_test_text_2  = tf_emb.transform(X_train.text_2.values), tf_emb.transform(X_test.text_2.values)"
      ],
      "execution_count": null,
      "outputs": []
    },
    {
      "cell_type": "code",
      "metadata": {
        "id": "nVfaHhmxBD0i"
      },
      "source": [
        "X_train = [np.concatenate((X_train_text_1[i], X_train_text_2[i])) for i in range(len(X_train_text_1))]\n",
        "X_test = [np.concatenate((X_test_text_1[i], X_test_text_2[i])) for i in range(len(X_test_text_1))]"
      ],
      "execution_count": null,
      "outputs": []
    },
    {
      "cell_type": "markdown",
      "metadata": {
        "id": "8Je7YoiRBD0i"
      },
      "source": [
        "#### Weightned FastText + LogReg, SVM, RandomForest, GradientBoosting"
      ]
    },
    {
      "cell_type": "code",
      "metadata": {
        "id": "4ZEd9YA8BD0i",
        "outputId": "d224d3d7-05c3-455a-90f8-b7b284c20be5"
      },
      "source": [
        "pipe_logreg = LogisticRegression(random_state=666, n_jobs = -1)\n",
        "\n",
        "pipe_svm = SVC(random_state=666)\n",
        "\n",
        "pipe_forest = RandomForestClassifier(random_state=666)\n",
        "\n",
        "pipe_boost = GradientBoostingClassifier(random_state=666)\n",
        "\n",
        "grid_params_logreg = [{'penalty': ('l1', 'l2'),\n",
        "                   'C': [1.0, 0.5, 0.1]}] \n",
        "\n",
        "grid_params_svm = [{'kernel': ('linear', 'poly', 'rbf'),\n",
        "                   'C': [1.0, 0.5, 0.1],\n",
        "                   'degree': [3, 5]}] \n",
        "\n",
        "grid_params_forest = [{'n_estimators' : [10, 20], \n",
        "                   'criterion': ('gini', 'entropy'),\n",
        "                   'min_samples_leaf': [50, 100, 200],\n",
        "                   'max_depth': [50, 100],\n",
        "                   'min_samples_split': [50, 100]}]\n",
        "\n",
        "grid_params_boost = [{'loss': ('deviance', 'exponential'), \n",
        "                    'min_samples_leaf': [50, 100], \n",
        "                    'subsample' : [0.5, 0.7, 1.0], \n",
        "                    'n_estimators' : [100, 200]}]\n",
        "\n",
        "\n",
        "models = {'logreg' : [pipe_logreg, grid_params_logreg],\n",
        "          'svm' : [pipe_svm, grid_params_svm], \n",
        "          'forest': [pipe_forest, grid_params_forest],\n",
        "          'boost' : [pipe_boost, grid_params_boost]}\n",
        "\n",
        "scoring = {'accuracy' : make_scorer(accuracy_score), \n",
        "          'f1_score_macro' : make_scorer(f1_score, average = 'macro')}\n",
        "\n",
        "\n",
        "best_acc = 0.0\n",
        "best_f1 = 0.0\n",
        "best_clf_acc = ''\n",
        "best_clf_f1 = ''\n",
        "\n",
        "\n",
        "for clf in models.keys():\n",
        "    print('\\nEstimator: %s' % models[clf])\n",
        "    grid_cv = GridSearchCV(estimator = models[clf][0], param_grid = models[clf][1][0], n_jobs = -1, \n",
        "                           scoring = scoring, refit = 'f1_score_macro')\n",
        "    grid_cv.fit(X_train, y_train)\n",
        "    print('Best params: %s' % grid_cv.best_paramеs_)\n",
        "    print('Best training accuracy: %.3f' % grid_cv.best_score_)\n",
        "    y_pred = grid_cv.predict(X_test)\n",
        "    print('Test set accuracy score for best params: %.3f ' % accuracy_score(y_test, y_pred))\n",
        "    print('Test set f1_score (macro) for best params: %.3f ' % f1_score(y_test, y_pred, average='macro'))\n",
        "    results.add(accuracy_score(y_test, y_pred), clf, 'acc', 'Weighted_Fasttext')\n",
        "    results.add(f1_score(y_test, y_pred, average='macro'), clf, 'f1', 'Weighted_Fasttext')\n",
        "    if accuracy_score(y_test, y_pred) > best_acc:\n",
        "        best_acc = accuracy_score(y_test, y_pred)\n",
        "        best_clf_acc = str(grid_cv.best_estimator_)\n",
        "        \n",
        "    if f1_score(y_test, y_pred, average='macro') > best_f1:\n",
        "        best_f1 = f1_score(y_test, y_pred, average='macro')\n",
        "        best_clf_f1 = str(grid_cv.best_estimator_)\n",
        "        \n",
        "print('\\nClassifier with best test set accuracy: %s' % best_clf_acc)\n",
        "print('\\nClassifier with best test set f1 macro score: %s' % best_clf_f1)\n"
      ],
      "execution_count": null,
      "outputs": [
        {
          "output_type": "stream",
          "text": [
            "\n",
            "Estimator: [LogisticRegression(C=1.0, class_weight=None, dual=False, fit_intercept=True,\n",
            "          intercept_scaling=1, max_iter=100, multi_class='ovr', n_jobs=-1,\n",
            "          penalty='l2', random_state=666, solver='liblinear', tol=0.0001,\n",
            "          verbose=0, warm_start=False), [{'penalty': ('l1', 'l2'), 'C': [1.0, 0.5, 0.1]}]]\n",
            "Best params: {'C': 1.0, 'penalty': 'l1'}\n",
            "Best training accuracy: 0.631\n",
            "Test set accuracy score for best params: 0.668 \n",
            "Test set f1_score (macro) for best params: 0.608 \n",
            "\n",
            "Estimator: [SVC(C=1.0, cache_size=200, class_weight=None, coef0=0.0,\n",
            "  decision_function_shape='ovr', degree=3, gamma='auto', kernel='rbf',\n",
            "  max_iter=-1, probability=False, random_state=666, shrinking=True,\n",
            "  tol=0.001, verbose=False), [{'kernel': ('linear', 'poly', 'rbf'), 'C': [1.0, 0.5, 0.1], 'degree': [3, 5]}]]\n",
            "Best params: {'C': 0.5, 'degree': 3, 'kernel': 'linear'}\n",
            "Best training accuracy: 0.627\n",
            "Test set accuracy score for best params: 0.670 \n",
            "Test set f1_score (macro) for best params: 0.610 \n",
            "\n",
            "Estimator: [RandomForestClassifier(bootstrap=True, class_weight=None, criterion='gini',\n",
            "            max_depth=None, max_features='auto', max_leaf_nodes=None,\n",
            "            min_impurity_decrease=0.0, min_impurity_split=None,\n",
            "            min_samples_leaf=1, min_samples_split=2,\n",
            "            min_weight_fraction_leaf=0.0, n_estimators=10, n_jobs=1,\n",
            "            oob_score=False, random_state=666, verbose=0, warm_start=False), [{'n_estimators': [10, 20], 'criterion': ('gini', 'entropy'), 'min_samples_leaf': [50, 100, 200], 'max_depth': [50, 100], 'min_samples_split': [50, 100]}]]\n",
            "Best params: {'criterion': 'gini', 'max_depth': 50, 'min_samples_leaf': 50, 'min_samples_split': 50, 'n_estimators': 10}\n",
            "Best training accuracy: 0.528\n",
            "Test set accuracy score for best params: 0.678 \n",
            "Test set f1_score (macro) for best params: 0.524 \n",
            "\n",
            "Estimator: [GradientBoostingClassifier(criterion='friedman_mse', init=None,\n",
            "              learning_rate=0.1, loss='deviance', max_depth=3,\n",
            "              max_features=None, max_leaf_nodes=None,\n",
            "              min_impurity_decrease=0.0, min_impurity_split=None,\n",
            "              min_samples_leaf=1, min_samples_split=2,\n",
            "              min_weight_fraction_leaf=0.0, n_estimators=100,\n",
            "              presort='auto', random_state=666, subsample=1.0, verbose=0,\n",
            "              warm_start=False), [{'loss': ('deviance', 'exponential'), 'min_samples_leaf': [50, 100], 'subsample': [0.5, 0.7, 1.0], 'n_estimators': [100, 200]}]]\n",
            "Best params: {'loss': 'deviance', 'min_samples_leaf': 100, 'n_estimators': 200, 'subsample': 1.0}\n",
            "Best training accuracy: 0.719\n",
            "Test set accuracy score for best params: 0.750 \n",
            "Test set f1_score (macro) for best params: 0.694 \n",
            "\n",
            "Classifier with best test set accuracy: GradientBoostingClassifier(criterion='friedman_mse', init=None,\n",
            "              learning_rate=0.1, loss='deviance', max_depth=3,\n",
            "              max_features=None, max_leaf_nodes=None,\n",
            "              min_impurity_decrease=0.0, min_impurity_split=None,\n",
            "              min_samples_leaf=100, min_samples_split=2,\n",
            "              min_weight_fraction_leaf=0.0, n_estimators=200,\n",
            "              presort='auto', random_state=666, subsample=1.0, verbose=0,\n",
            "              warm_start=False)\n",
            "\n",
            "Classifier with best test set f1 macro score: GradientBoostingClassifier(criterion='friedman_mse', init=None,\n",
            "              learning_rate=0.1, loss='deviance', max_depth=3,\n",
            "              max_features=None, max_leaf_nodes=None,\n",
            "              min_impurity_decrease=0.0, min_impurity_split=None,\n",
            "              min_samples_leaf=100, min_samples_split=2,\n",
            "              min_weight_fraction_leaf=0.0, n_estimators=200,\n",
            "              presort='auto', random_state=666, subsample=1.0, verbose=0,\n",
            "              warm_start=False)\n"
          ],
          "name": "stdout"
        }
      ]
    },
    {
      "cell_type": "markdown",
      "metadata": {
        "id": "AtltlFCNBD0i"
      },
      "source": [
        "### Результаты"
      ]
    },
    {
      "cell_type": "code",
      "metadata": {
        "ExecuteTime": {
          "end_time": "2018-11-09T13:36:49.579448Z",
          "start_time": "2018-11-09T13:36:49.560222Z"
        },
        "id": "cVpUSZENBD0i",
        "outputId": "093a38b0-b554-453b-9959-112f9b3f1407"
      },
      "source": [
        "results.show()"
      ],
      "execution_count": null,
      "outputs": [
        {
          "output_type": "execute_result",
          "data": {
            "text/html": [
              "<div>\n",
              "<style scoped>\n",
              "    .dataframe tbody tr th:only-of-type {\n",
              "        vertical-align: middle;\n",
              "    }\n",
              "\n",
              "    .dataframe tbody tr th {\n",
              "        vertical-align: top;\n",
              "    }\n",
              "\n",
              "    .dataframe thead th {\n",
              "        text-align: right;\n",
              "    }\n",
              "</style>\n",
              "<table border=\"1\" class=\"dataframe\">\n",
              "  <thead>\n",
              "    <tr style=\"text-align: right;\">\n",
              "      <th></th>\n",
              "      <th>logreg_acc</th>\n",
              "      <th>logreg_f1</th>\n",
              "      <th>svm_acc</th>\n",
              "      <th>svm_f1</th>\n",
              "      <th>boost_acc</th>\n",
              "      <th>boost_f1</th>\n",
              "      <th>forest_acc</th>\n",
              "      <th>forest_f1</th>\n",
              "    </tr>\n",
              "  </thead>\n",
              "  <tbody>\n",
              "    <tr>\n",
              "      <th>Word2Vec</th>\n",
              "      <td>0.679026</td>\n",
              "      <td>0.56704</td>\n",
              "      <td>0.679579</td>\n",
              "      <td>0.517176</td>\n",
              "      <td>0.727726</td>\n",
              "      <td>0.667509</td>\n",
              "      <td>0.666851</td>\n",
              "      <td>0.489535</td>\n",
              "    </tr>\n",
              "    <tr>\n",
              "      <th>Weighted_Word2Vec</th>\n",
              "      <td>0.643608</td>\n",
              "      <td>0.579619</td>\n",
              "      <td>0.653016</td>\n",
              "      <td>0.580335</td>\n",
              "      <td>0.727726</td>\n",
              "      <td>0.667509</td>\n",
              "      <td>0.666851</td>\n",
              "      <td>0.489535</td>\n",
              "    </tr>\n",
              "    <tr>\n",
              "      <th>Doc2Vec</th>\n",
              "      <td>0.663531</td>\n",
              "      <td>0.609715</td>\n",
              "      <td>0.678473</td>\n",
              "      <td>0.580869</td>\n",
              "      <td>0.755396</td>\n",
              "      <td>0.720436</td>\n",
              "      <td>0.68124</td>\n",
              "      <td>0.548032</td>\n",
              "    </tr>\n",
              "    <tr>\n",
              "      <th>Fasttext</th>\n",
              "      <td>0.68124</td>\n",
              "      <td>0.572611</td>\n",
              "      <td>0.677366</td>\n",
              "      <td>0.514778</td>\n",
              "      <td>0.754842</td>\n",
              "      <td>0.702492</td>\n",
              "      <td>0.678473</td>\n",
              "      <td>0.522837</td>\n",
              "    </tr>\n",
              "    <tr>\n",
              "      <th>Weighted_Fasttext</th>\n",
              "      <td>0.667958</td>\n",
              "      <td>0.607941</td>\n",
              "      <td>0.669618</td>\n",
              "      <td>0.609702</td>\n",
              "      <td>0.749862</td>\n",
              "      <td>0.693834</td>\n",
              "      <td>0.677919</td>\n",
              "      <td>0.524241</td>\n",
              "    </tr>\n",
              "  </tbody>\n",
              "</table>\n",
              "</div>"
            ],
            "text/plain": [
              "                  logreg_acc logreg_f1   svm_acc    svm_f1 boost_acc  \\\n",
              "Word2Vec            0.679026   0.56704  0.679579  0.517176  0.727726   \n",
              "Weighted_Word2Vec   0.643608  0.579619  0.653016  0.580335  0.727726   \n",
              "Doc2Vec             0.663531  0.609715  0.678473  0.580869  0.755396   \n",
              "Fasttext             0.68124  0.572611  0.677366  0.514778  0.754842   \n",
              "Weighted_Fasttext   0.667958  0.607941  0.669618  0.609702  0.749862   \n",
              "\n",
              "                   boost_f1 forest_acc forest_f1  \n",
              "Word2Vec           0.667509   0.666851  0.489535  \n",
              "Weighted_Word2Vec  0.667509   0.666851  0.489535  \n",
              "Doc2Vec            0.720436    0.68124  0.548032  \n",
              "Fasttext           0.702492   0.678473  0.522837  \n",
              "Weighted_Fasttext  0.693834   0.677919  0.524241  "
            ]
          },
          "metadata": {
            "tags": []
          },
          "execution_count": 64
        }
      ]
    },
    {
      "cell_type": "code",
      "metadata": {
        "collapsed": true,
        "id": "B3pF-LE_BD0i"
      },
      "source": [
        ""
      ],
      "execution_count": null,
      "outputs": []
    }
  ]
}